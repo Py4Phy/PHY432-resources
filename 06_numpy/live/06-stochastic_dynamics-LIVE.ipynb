{
 "cells": [
  {
   "cell_type": "markdown",
   "id": "049456b5",
   "metadata": {
    "editable": true,
    "slideshow": {
     "slide_type": "slide"
    },
    "tags": []
   },
   "source": [
    "# Random walk and diffusion\n",
    "\n",
    "We are going to look at a 1D process: a particle of mass $m$ moves in solution (e.g., a small bead or virus in water or oil).\n",
    "\n",
    "We will use numpy and matplotlib."
   ]
  },
  {
   "cell_type": "code",
   "execution_count": null,
   "id": "d0012663",
   "metadata": {},
   "outputs": [],
   "source": [
    "import numpy as np\n",
    "import matplotlib.pyplot as plt\n",
    "plt.matplotlib.style.use(\"ggplot\")"
   ]
  },
  {
   "cell_type": "markdown",
   "id": "774294fb",
   "metadata": {
    "slideshow": {
     "slide_type": "slide"
    }
   },
   "source": [
    "## Newton's equation of motion\n",
    "\n",
    "Start with Newton's equations of motion for intertial motion:\n",
    "\n",
    "$$\n",
    "m\\frac{dx^2}{dt^2} = f\n",
    "$$\n",
    "\n",
    "The force is derived from a conservative potential $U(x)$\n",
    "\n",
    "$$\n",
    "f = -\\frac{dU}{dx}.\n",
    "$$\n",
    "\n"
   ]
  },
  {
   "cell_type": "markdown",
   "id": "e627a64f",
   "metadata": {
    "slideshow": {
     "slide_type": "slide"
    }
   },
   "source": [
    "## Langevin equation\n",
    "\n",
    "But that's only the particle. Where is the water?\n",
    "\n",
    "Model the solvent _implicitly_ by its influence on the bead\n",
    "1. **friction** $-\\gamma m v$ ($\\gamma > 0$ is the *friction coefficient*)\n",
    "2. random kicks $f_\\text{random}$ from collisions\n",
    "\n",
    "leading to the **Langevin equation**:\n",
    "\n",
    "$$\n",
    "m\\frac{dx^2}{dt^2} = f - \\gamma m \\frac{dx}{dt} + f_\\text{random}\n",
    "$$\n",
    "\n",
    "\n"
   ]
  },
  {
   "cell_type": "markdown",
   "id": "208fa626",
   "metadata": {
    "slideshow": {
     "slide_type": "slide"
    }
   },
   "source": [
    "## Overdamped Langevin equation\n",
    "\n",
    "If the friction is high then there is no inertial motion:\n",
    "\n",
    "$$\n",
    "0 = f - \\gamma m \\frac{dx}{dt} + f_\\text{random}\n",
    "$$\n",
    "\n",
    "so the **overdamped Langevin equation** is\n",
    "\n",
    "$$\n",
    "\\frac{dx}{dt} = \\frac{1}{m\\gamma}(f + f_\\text{random})\n",
    "$$\n"
   ]
  },
  {
   "cell_type": "markdown",
   "id": "6189e0d0",
   "metadata": {
    "slideshow": {
     "slide_type": "slide"
    }
   },
   "source": [
    "## Discretized dynamics\n",
    "\n",
    "* Simulate over discrete time steps $\\Delta t$\n",
    "* $v = \\Delta x/\\Delta t$\n"
   ]
  },
  {
   "cell_type": "markdown",
   "id": "b58bc855",
   "metadata": {
    "slideshow": {
     "slide_type": "fragment"
    }
   },
   "source": [
    "$$\n",
    "\\Delta x = \\frac{\\Delta t}{m\\gamma}(f + f_\\text{random})\n",
    "$$"
   ]
  },
  {
   "cell_type": "markdown",
   "id": "32cdef89",
   "metadata": {
    "slideshow": {
     "slide_type": "fragment"
    }
   },
   "source": [
    "$$\n",
    "\\Delta x = \\Delta x_\\text{deterministic} + \\Delta x_\\text{random}\n",
    "$$"
   ]
  },
  {
   "cell_type": "markdown",
   "id": "cc0ac09c",
   "metadata": {
    "editable": true,
    "slideshow": {
     "slide_type": "subslide"
    },
    "tags": []
   },
   "source": [
    "### Trajectories\n",
    "\n",
    "- We are interested in *trajectories*, i.e. $x(t)$.\n",
    "- Start at $x(t=0) = x_0$ (initial condition).\n",
    "- Compute $\\Delta x$ for subsequent times and add up steps:\n",
    "\n",
    "  $$\n",
    "  x(t) = x_0 + \\Delta x(\\Delta t) + \\Delta x(2\\Delta t) + \\dots + \\Delta x(t-\\Delta t)\n",
    "  $$"
   ]
  },
  {
   "cell_type": "markdown",
   "id": "bd05e5a0-d07f-4cc6-8827-c9486f2a1a0a",
   "metadata": {
    "editable": true,
    "slideshow": {
     "slide_type": "subslide"
    },
    "tags": []
   },
   "source": [
    "- Rewrite with discrete (indexed) notation with step $j$: \n",
    "\n",
    "  \\begin{align}\n",
    "  x_j &:= x(t=j\\Delta t)\\\\\n",
    "  x_{j+1} &= x_j + \\Delta x_{j+1}\n",
    "  \\end{align}\n",
    "\n",
    "- Deterministic force $f = f(x)$, i.e., $f_j = f(x_j)$ so\n",
    "  $$\n",
    "  \\Delta x_\\text{deterministic} = \\frac{f(x_j)}{m\\gamma} \\Delta t\n",
    "  $$\n",
    "  (taking $f$ to be approximately constant over $\\Delta t$)\n",
    "- Random force: zero mean Gaussian distribution"
   ]
  },
  {
   "cell_type": "markdown",
   "id": "ae75ae7d",
   "metadata": {
    "slideshow": {
     "slide_type": "subslide"
    }
   },
   "source": [
    "### Random force/random displacement\n",
    "\n",
    "* Zero mean: $\\langle \\Delta x_\\text{random} \\rangle = 0$\n",
    "* Gaussian distributed: $\\Delta x_\\text{random} \\sim \\frac{1}{\\sqrt{2\\pi\\sigma^2}} \\exp\\left(-\\frac{\\Delta x_\\text{random}^2}{2\\sigma^2}\\right)$\n",
    "* Variance *must* be $\\sigma^2 = \\frac{2 k_B T \\Delta t}{m \\gamma}$ (to satisfy a fluctuation-dissipation theorem)\n",
    "\n",
    "$k_B T$ is the typical energy in thermal fluctuations where $k_B = 1.380649 × 10^{−23}\\,\\text{J/K}$ is the [Boltzmann constant](https://en.wikipedia.org/wiki/Boltzmann_constant) and $T$ the temperature in Kelvin. "
   ]
  },
  {
   "cell_type": "markdown",
   "id": "3efa0bf4",
   "metadata": {
    "slideshow": {
     "slide_type": "subslide"
    }
   },
   "source": [
    "#### Normal distribution\n",
    "What does the Gaussian or **normal distribution** $\\mathcal{N}$ look like?\n",
    "\n",
    "$$\n",
    "\\mathcal{N}(x; \\mu, \\sigma) = \\frac{1}{\\sqrt{ 2 \\pi \\sigma^2 }}e^{ - \\frac{ (x - \\mu)^2 } {2 \\sigma^2} }.\n",
    "$$"
   ]
  },
  {
   "cell_type": "markdown",
   "id": "5274e95f",
   "metadata": {
    "slideshow": {
     "slide_type": "fragment"
    }
   },
   "source": [
    "Python function for the normal probability density for mean $\\mu$ and standard deviation $\\sigma$:"
   ]
  },
  {
   "cell_type": "code",
   "execution_count": null,
   "id": "ce15bde5",
   "metadata": {
    "slideshow": {
     "slide_type": "-"
    }
   },
   "outputs": [],
   "source": [
    "def p_normal(x, mu=0, sigma=1):\n",
    "    return np.exp(-0.5*((x - mu)/sigma)**2) / (np.sqrt(2*np.pi) * sigma)"
   ]
  },
  {
   "cell_type": "markdown",
   "id": "92f3af20",
   "metadata": {
    "slideshow": {
     "slide_type": "subslide"
    }
   },
   "source": [
    "Plot normal distribution for $\\mu=0$, $\\sigma=0.5$ over a range of $x$ values:"
   ]
  },
  {
   "cell_type": "code",
   "execution_count": null,
   "id": "f7f1303b",
   "metadata": {},
   "outputs": [],
   "source": [
    "X = np.linspace(-2, 2, 100)\n",
    "P = p_normal(X, mu=0, sigma=0.5)\n",
    "plt.plot(X, P, color=\"blue\")\n",
    "plt.xlabel(\"x\"); plt.ylabel(\"p(x)\");"
   ]
  },
  {
   "cell_type": "markdown",
   "id": "4ecf311d",
   "metadata": {
    "slideshow": {
     "slide_type": "slide"
    }
   },
   "source": [
    "## Simple diffusion\n",
    "\n",
    "No external force:\n",
    "\n",
    "$$\n",
    "f = 0\n",
    "$$\n",
    "\n",
    "so only random movement\n",
    "\n",
    "$$\n",
    "\\Delta x = \\Delta x_\\text{random}\n",
    "$$"
   ]
  },
  {
   "cell_type": "markdown",
   "id": "958e27b9",
   "metadata": {
    "slideshow": {
     "slide_type": "slide"
    }
   },
   "source": [
    "## Generating random steps\n",
    "\n",
    "$$\n",
    "\\Delta x_\\text{random} \\sim \\frac{1}{\\sqrt{2\\pi\\sigma^2}} \\exp\\left(-\\frac{\\Delta x_\\text{random}^2}{2\\sigma^2}\\right)\n",
    "$$\n",
    "\n",
    "with $\\sigma^2 = \\frac{2 k_B T \\Delta t}{m \\gamma}$.\n",
    "\n",
    "I.e. the probability distribution $p(\\Delta x_\\text{random})$ is the normal distribution $\\mathcal{N}(\\Delta x_\\text{random}; 0, \\sigma)$\n",
    "\n"
   ]
  },
  {
   "cell_type": "markdown",
   "id": "6f9babf2",
   "metadata": {
    "slideshow": {
     "slide_type": "slide"
    }
   },
   "source": [
    "### Generating random numbers with numpy\n",
    "\n",
    "How to generate Gaussian random displacements, i.e. **normally distributed** random numbers?\n",
    "\n",
    "Use [numpy's random number generation](https://numpy.org/doc/stable/reference/random/index.html) facility:"
   ]
  },
  {
   "cell_type": "markdown",
   "id": "37824d88",
   "metadata": {
    "slideshow": {
     "slide_type": "fragment"
    }
   },
   "source": [
    "Always start like this (create a random number generator instance `rng`) at the beginning of your code:"
   ]
  },
  {
   "cell_type": "code",
   "execution_count": null,
   "id": "66b56d6e",
   "metadata": {},
   "outputs": [],
   "source": [
    "import numpy as np\n",
    "\n",
    "rng = np.random.default_rng()"
   ]
  },
  {
   "cell_type": "markdown",
   "id": "9985a7a8",
   "metadata": {},
   "source": [
    "You then use `rng` throughout your code."
   ]
  },
  {
   "cell_type": "markdown",
   "id": "fc931984",
   "metadata": {
    "slideshow": {
     "slide_type": "subslide"
    }
   },
   "source": [
    "#### Samples from the normal distribution\n",
    "\n",
    "$$\n",
    "p(x) = \\mathcal{N}(x; \\mu, \\sigma) = \\frac{1}{\\sqrt{ 2 \\pi \\sigma^2 }}e^{ - \\frac{ (x - \\mu)^2 } {2 \\sigma^2} }\n",
    "$$\n"
   ]
  },
  {
   "cell_type": "markdown",
   "id": "fc870a11",
   "metadata": {},
   "source": [
    "Get 1000 samples for $\\mu = 0$ and $\\sigma = 0.5$ using the [normal()](https://numpy.org/doc/stable/reference/random/generated/numpy.random.Generator.normal.html#numpy.random.Generator.normal) method:"
   ]
  },
  {
   "cell_type": "code",
   "execution_count": null,
   "id": "10d73af7",
   "metadata": {},
   "outputs": [],
   "source": [
    "mu = 0\n",
    "sigma = 0.5\n",
    "\n",
    "x_samples = rng.normal(loc=mu, scale=sigma, size=1000)"
   ]
  },
  {
   "cell_type": "markdown",
   "id": "b369556a",
   "metadata": {
    "slideshow": {
     "slide_type": "fragment"
    }
   },
   "source": [
    "<small>(`default_rng()` is the new and recommended way to generate random numbers in numpy. Previously, one used functions in [numpy.random](https://numpy.org/doc/stable/reference/random/) such as [numpy.random.normal()](https://numpy.org/doc/stable/reference/random/generated/numpy.random.RandomState.normal.html#numpy.random.RandomState.normal) or [numpy.random.randn()](https://numpy.org/doc/stable/reference/random/generated/numpy.random.RandomState.randn.html#numpy.random.RandomState.randn). New code, however, should use the above approach that starts with a [numpy.random.Generator](https://numpy.org/doc/stable/reference/random/generator.html#simple-random-data).)</small>"
   ]
  },
  {
   "cell_type": "markdown",
   "id": "7a8becbd",
   "metadata": {
    "slideshow": {
     "slide_type": "slide"
    }
   },
   "source": [
    "### Plotting random numbers\n",
    "\n",
    "What do the samples and the distribution look like?"
   ]
  },
  {
   "cell_type": "markdown",
   "id": "de2eba9e",
   "metadata": {
    "slideshow": {
     "slide_type": "fragment"
    }
   },
   "source": [
    "#### Samples\n",
    "\n",
    "Plot the samples $x$:"
   ]
  },
  {
   "cell_type": "code",
   "execution_count": null,
   "id": "68c426a9",
   "metadata": {},
   "outputs": [],
   "source": [
    "plt.plot(x_samples)\n",
    "plt.ylabel(\"x\");"
   ]
  },
  {
   "cell_type": "markdown",
   "id": "d32f791d",
   "metadata": {
    "slideshow": {
     "slide_type": "subslide"
    }
   },
   "source": [
    "#### Probability distribution from samples\n",
    "\n",
    "How do we get an estimate for the **distribution** $p(x)$ from our samples?"
   ]
  },
  {
   "cell_type": "markdown",
   "id": "a8913a0a",
   "metadata": {
    "slideshow": {
     "slide_type": "fragment"
    }
   },
   "source": [
    "##### Histogramming\n",
    "**Histogram** the data with the [numpy.histogram()](https://numpy.org/doc/stable/reference/generated/numpy.histogram.html#numpy-histogram) function (and then turn the counts into a probability density):"
   ]
  },
  {
   "cell_type": "code",
   "execution_count": null,
   "id": "8b745fb1",
   "metadata": {
    "slideshow": {
     "slide_type": "fragment"
    }
   },
   "outputs": [],
   "source": [
    "np.histogram(x_samples, bins=10)"
   ]
  },
  {
   "cell_type": "markdown",
   "id": "6b0763a3",
   "metadata": {
    "slideshow": {
     "slide_type": "subslide"
    }
   },
   "source": [
    "Work with the `counts` (the histogram itself, related to $p(x)$) and the `edges` of the bins (related to the samples, our $x$ values)"
   ]
  },
  {
   "cell_type": "code",
   "execution_count": null,
   "id": "b1fafa37",
   "metadata": {},
   "outputs": [],
   "source": [
    "counts, edges = np.histogram(x_samples, bins=10)"
   ]
  },
  {
   "cell_type": "code",
   "execution_count": null,
   "id": "67662abc",
   "metadata": {
    "slideshow": {
     "slide_type": "fragment"
    }
   },
   "outputs": [],
   "source": [
    "len(counts)"
   ]
  },
  {
   "cell_type": "code",
   "execution_count": null,
   "id": "1a33fa32",
   "metadata": {
    "slideshow": {
     "slide_type": "fragment"
    }
   },
   "outputs": [],
   "source": [
    "len(edges)"
   ]
  },
  {
   "cell_type": "code",
   "execution_count": null,
   "id": "41afe5d3",
   "metadata": {
    "slideshow": {
     "slide_type": "fragment"
    }
   },
   "outputs": [],
   "source": [
    "edges"
   ]
  },
  {
   "cell_type": "markdown",
   "id": "e2efdefa",
   "metadata": {
    "slideshow": {
     "slide_type": "subslide"
    }
   },
   "source": [
    "##### Step-plot of histogram counts\n",
    "\n",
    "Plot the lower edge of each bin:"
   ]
  },
  {
   "cell_type": "code",
   "execution_count": null,
   "id": "6200585a",
   "metadata": {},
   "outputs": [],
   "source": [
    "plt.step(edges[:-1], counts, color=\"red\", where=\"post\")\n",
    "plt.xlabel(\"x\")\n",
    "plt.ylabel(\"counts\")\n",
    "plt.plot(edges[:-1], counts, color=\"red\", marker=\"o\", linestyle=\"\", alpha=0.3)"
   ]
  },
  {
   "cell_type": "markdown",
   "id": "57bd66b1",
   "metadata": {
    "slideshow": {
     "slide_type": "subslide"
    }
   },
   "source": [
    "##### Midpoints of bins\n",
    "\n",
    "Get the *midpoints* $x_k$ of bins $0 \\le k < N$ from the edges $e_k, 0 \\le k < N+1$:\n",
    "\n",
    "$$\n",
    "x_k = \\frac{e_k + e_{k+1}}{2}\n",
    "$$"
   ]
  },
  {
   "cell_type": "markdown",
   "id": "ffa8bcae",
   "metadata": {
    "slideshow": {
     "slide_type": "fragment"
    }
   },
   "source": [
    "Python implementation with a loop:"
   ]
  },
  {
   "cell_type": "code",
   "execution_count": null,
   "id": "35062df7",
   "metadata": {
    "slideshow": {
     "slide_type": "fragment"
    }
   },
   "outputs": [],
   "source": [
    "x_values = [0.5*(edges[k] + edges[k+1]) for k in range(len(edges) - 1)]\n",
    "np.array(x_values)"
   ]
  },
  {
   "cell_type": "markdown",
   "id": "449b83e9",
   "metadata": {
    "slideshow": {
     "slide_type": "subslide"
    }
   },
   "source": [
    "Using fast **numpy array operations** for $x_k = (e_k + e_{k+1})/2$"
   ]
  },
  {
   "cell_type": "markdown",
   "id": "e7ffc9fe",
   "metadata": {
    "slideshow": {
     "slide_type": "fragment"
    }
   },
   "source": [
    "```\n",
    "    +---+---+---+---+------+---+----+\n",
    "e = | 0 | 1 | 2 | 3 | .... | 9 | 10 |\n",
    "    +---+---+---+---+------+---+----+\n",
    "```"
   ]
  },
  {
   "cell_type": "markdown",
   "id": "682155ce",
   "metadata": {
    "slideshow": {
     "slide_type": "fragment"
    }
   },
   "source": [
    "\"Thinking in arrays\": \n",
    "\n",
    "Calculate `e[k] + e[k+1]` as\n",
    "```\n",
    "           +---+---+---+---+------+---+\n",
    "\"e[k]\" =   | 0 | 1 | 2 | 3 | .... | 9 |  = e[:-1]\n",
    "           +---+---+---+---+------+---+\n",
    "             +   +   +   +          +\n",
    "           +---+---+---+---+------+---+\n",
    "\"e[k+1]\" = | 1 | 2 | 3 | 4 | .... |10 |  = e[1:]\n",
    "           +---+---+---+---+------+---+    \n",
    "```"
   ]
  },
  {
   "cell_type": "code",
   "execution_count": null,
   "id": "555098a6",
   "metadata": {
    "slideshow": {
     "slide_type": "fragment"
    }
   },
   "outputs": [],
   "source": [
    "x_values = 0.5 * (edges[:-1] + edges[1:])\n",
    "x_values"
   ]
  },
  {
   "cell_type": "markdown",
   "id": "2c45b47c",
   "metadata": {
    "slideshow": {
     "slide_type": "subslide"
    }
   },
   "source": [
    "Plot estimate histogram at the midpoints of the bins:"
   ]
  },
  {
   "cell_type": "code",
   "execution_count": null,
   "id": "cb80afd3",
   "metadata": {
    "slideshow": {
     "slide_type": "-"
    }
   },
   "outputs": [],
   "source": [
    "plt.step(x_values, counts, color=\"red\", where=\"mid\")\n",
    "plt.xlabel(\"x\")\n",
    "plt.ylabel(\"counts\")\n",
    "plt.plot(x_values, counts, color=\"red\", marker=\"o\", linestyle=\"\", alpha=0.3)"
   ]
  },
  {
   "cell_type": "markdown",
   "id": "5877ac8a",
   "metadata": {
    "slideshow": {
     "slide_type": "slide"
    }
   },
   "source": [
    "##### Probability distribution from samples\n",
    "\n",
    "A probability distribution $p(x)$ over a continuous variable $x$ should be a *normalized density* , i.e.,\n",
    "\n",
    "$$\n",
    "\\int_{-\\infty}^{+\\infty} \\!\\! p(x)\\, dx = 1\n",
    "$$\n",
    "\n",
    "or for discrete bins with a value $p_k$ in bin $k$:\n",
    "\n",
    "$$\n",
    "\\sum_{k=0}^{N-1} p_k \\Delta x_k = 1\n",
    "$$\n",
    "\n",
    "where $\\Delta x_k = (e_{k+1} - e_k)$ is the bin width of bin $k$."
   ]
  },
  {
   "cell_type": "markdown",
   "id": "979e5ea0",
   "metadata": {
    "slideshow": {
     "slide_type": "subslide"
    }
   },
   "source": [
    "Given counts $h_k$, one can compute the normalized probability density as\n",
    "\n",
    "$$\n",
    "p_k = \\frac{h_k}{\\sum_k h_k}\\frac{1}{\\Delta x_k}\n",
    "$$"
   ]
  },
  {
   "cell_type": "code",
   "execution_count": null,
   "id": "e69fea04",
   "metadata": {
    "slideshow": {
     "slide_type": "fragment"
    }
   },
   "outputs": [],
   "source": [
    "Delta_x = edges[1:] - edges[:-1]   # = np.diff(edges)\n",
    "p_k = counts / (counts.sum() * Delta_x)"
   ]
  },
  {
   "cell_type": "markdown",
   "id": "061dc763",
   "metadata": {
    "slideshow": {
     "slide_type": "fragment"
    }
   },
   "source": [
    "Check normalization:"
   ]
  },
  {
   "cell_type": "code",
   "execution_count": null,
   "id": "84dc413b",
   "metadata": {},
   "outputs": [],
   "source": [
    "np.sum(p_k * Delta_x)"
   ]
  },
  {
   "cell_type": "markdown",
   "id": "c8e67539",
   "metadata": {
    "slideshow": {
     "slide_type": "subslide"
    }
   },
   "source": [
    "Plot estimate for the distribution $p(x)$ of our samples:"
   ]
  },
  {
   "cell_type": "code",
   "execution_count": null,
   "id": "ce803657",
   "metadata": {},
   "outputs": [],
   "source": [
    "plt.step(x_values, p_k, where=\"mid\")\n",
    "plt.xlabel(\"x\")\n",
    "plt.ylabel(\"p(x)\");"
   ]
  },
  {
   "cell_type": "markdown",
   "id": "000298f1",
   "metadata": {
    "slideshow": {
     "slide_type": "subslide"
    }
   },
   "source": [
    "##### `numpy.histogram()` can generate densities\n",
    "\n",
    "One can directly get a density (for constant bin width) with the `density=True` kwarg:"
   ]
  },
  {
   "cell_type": "code",
   "execution_count": null,
   "id": "f54ed320",
   "metadata": {},
   "outputs": [],
   "source": [
    "density, edges = np.histogram(x_samples, bins=10, density=True)"
   ]
  },
  {
   "cell_type": "markdown",
   "id": "c132d271",
   "metadata": {},
   "source": [
    "Check normalization:"
   ]
  },
  {
   "cell_type": "code",
   "execution_count": null,
   "id": "9c12d1ae",
   "metadata": {},
   "outputs": [],
   "source": [
    "np.sum(density * np.diff(edges))"
   ]
  },
  {
   "cell_type": "markdown",
   "id": "5059df72",
   "metadata": {
    "slideshow": {
     "slide_type": "subslide"
    }
   },
   "source": [
    "#### Comparison to the normal distribution\n",
    "$$\n",
    "\\mathcal{N}(x; \\mu, \\sigma) = \\frac{1}{\\sqrt{ 2 \\pi \\sigma^2 }}e^{ - \\frac{ (x - \\mu)^2 } {2 \\sigma^2} }\n",
    "$$"
   ]
  },
  {
   "cell_type": "code",
   "execution_count": null,
   "id": "a461ac49",
   "metadata": {},
   "outputs": [],
   "source": [
    "X = np.linspace(x_values.min(), x_values.max(), 100)\n",
    "\n",
    "plt.step(x_values, p_k, where=\"mid\", label=\"samples\")\n",
    "\n",
    "plt.plot(x_values, p_normal(x_values, mu=mu, sigma=sigma), marker=\"o\", color=\"blue\", linestyle=\"\", alpha=0.4)\n",
    "plt.plot(X, p_normal(X, mu=mu, sigma=sigma), color=\"blue\", alpha=0.4, label=\"Normal\")\n",
    "\n",
    "plt.xlabel(\"x\")\n",
    "plt.ylabel(\"p(x)\")\n",
    "plt.legend();"
   ]
  },
  {
   "cell_type": "markdown",
   "id": "ef946c04",
   "metadata": {
    "slideshow": {
     "slide_type": "slide"
    }
   },
   "source": [
    "## Simulating random diffusion\n",
    "\n",
    "We will simulate the diffusion of a small particle such as a [virus](http://book.bionumbers.org/how-big-are-viruses/). Specifically, we pick the harmless [Brome Mosaic Virus](https://en.wikipedia.org/wiki/Brome_mosaic_virus):\n",
    "\n",
    "![Crystal structure of Brome mosaic virus](https://upload.wikimedia.org/wikipedia/commons/c/c0/Journal.pone.0142415.g001.C.png)"
   ]
  },
  {
   "cell_type": "markdown",
   "id": "450bfef1",
   "metadata": {
    "slideshow": {
     "slide_type": "subslide"
    }
   },
   "source": [
    "### Parameters\n",
    "\n",
    "[Brome Mosaic virus](https://bionumbers.hms.harvard.edu/bionumber.aspx?id=105893&ver=3&trm=virus+mass&org=) particle\n",
    "\n",
    "* mass $m=7.6\\times 10^{-21} \\text{kg}$ \n",
    "* friction coefficient $\\gamma=3.4 \\times 10^{10}\\,\\text{s}^{-1}$,  \n",
    "* time step $\\Delta t = 1\\times10^{-9}\\,\\text{s}$, \n",
    "* temperature $T=300\\,\\text{K}$ \n",
    "* starting position $x_0 = 0$"
   ]
  },
  {
   "cell_type": "markdown",
   "id": "ce8869aa",
   "metadata": {
    "slideshow": {
     "slide_type": "subslide"
    }
   },
   "source": [
    "### Algorithm (random diffusion)\n",
    "\n",
    "1. Generate a random step\n",
    "   $$\n",
    "   \\Delta x = \\Delta x_\\text{random}\n",
    "   $$\n",
    "   with\n",
    "   $$\n",
    "   \\Delta x_\\text{random} \\sim \\frac{1}{\\sqrt{2\\pi\\sigma^2}} \\exp\\left(-\\frac{\\Delta x_\\text{random}^2}{2\\sigma^2}\\right)\n",
    "   $$\n",
    "   where $\\sigma^2 = \\frac{2 k_B T \\Delta t}{m \\gamma}$.\n",
    "2. Save the step in `steps`.\n",
    "3. If not reached max number of steps, go to 1.\n",
    "4. Generate trajectory from steps \n",
    "   $$\n",
    "   x_{j+1} = x_j + \\Delta x_{j+1}\n",
    "   $$\n",
    "   i.e.,\n",
    "   $$\n",
    "   x_{k} = x_0 + \\sum_{j=1}^{k} \\Delta x_j\n",
    "   $$\n"
   ]
  },
  {
   "cell_type": "markdown",
   "id": "cac62053",
   "metadata": {
    "slideshow": {
     "slide_type": "subslide"
    }
   },
   "source": [
    "Define parameters"
   ]
  },
  {
   "cell_type": "code",
   "execution_count": null,
   "id": "6f846c6b",
   "metadata": {},
   "outputs": [],
   "source": [
    "m = 7.6e-21      # kg\n",
    "gamma = 3.4e10   # s^-1\n",
    "dt = 10e-9       # s\n",
    "T = 300          # K\n",
    "\n",
    "kB = 1.380649e-23 # J/K\n",
    "\n",
    "max_steps = 10000\n",
    "x0 = 0           # m\n",
    "\n",
    "sigma = np.sqrt(2*kB*T * dt / (m * gamma))  # m"
   ]
  },
  {
   "cell_type": "code",
   "execution_count": null,
   "id": "6dea87ce",
   "metadata": {
    "slideshow": {
     "slide_type": "fragment"
    }
   },
   "outputs": [],
   "source": [
    "sigma"
   ]
  },
  {
   "cell_type": "markdown",
   "id": "b05fe038",
   "metadata": {
    "slideshow": {
     "slide_type": "fragment"
    }
   },
   "source": [
    "With $\\Delta t = 10~\\text{ns}$, the \"typical\" random step size $\\sigma$ is on the order of 0.5 nm, i.e. with a virus particle size of ~50 nm, about 1/100 of the virus diameter."
   ]
  },
  {
   "cell_type": "markdown",
   "id": "2268e096",
   "metadata": {
    "slideshow": {
     "slide_type": "subslide"
    }
   },
   "source": [
    "Generate all steps:\n",
    "\n",
    "   $$\n",
    "   \\Delta x = \\Delta x_\\text{random}\n",
    "   $$\n",
    "   with\n",
    "   $$\n",
    "   \\Delta x_\\text{random} \\sim \\frac{1}{\\sqrt{2\\pi\\sigma^2}} \\exp\\left(-\\frac{\\Delta x_\\text{random}^2}{2\\sigma^2}\\right)\n",
    "   $$"
   ]
  },
  {
   "cell_type": "code",
   "execution_count": null,
   "id": "299faeab",
   "metadata": {},
   "outputs": [],
   "source": [
    "steps = rng.normal(loc=0, scale=sigma, size=max_steps)"
   ]
  },
  {
   "cell_type": "markdown",
   "id": "a7e759a4",
   "metadata": {
    "slideshow": {
     "slide_type": "subslide"
    }
   },
   "source": [
    "Generate trajectory:\n",
    "\n",
    "   $$\n",
    "   x_{k} = x_0 + \\sum_{j=1}^{k} \\Delta x_j\n",
    "   $$\n"
   ]
  },
  {
   "cell_type": "code",
   "execution_count": null,
   "id": "dae240bc",
   "metadata": {},
   "outputs": [],
   "source": [
    "x_trajectory = x0 + np.cumsum(steps)"
   ]
  },
  {
   "cell_type": "code",
   "execution_count": null,
   "id": "c5092d97",
   "metadata": {},
   "outputs": [],
   "source": [
    "x_trajectory[:5]"
   ]
  },
  {
   "cell_type": "markdown",
   "id": "e963cc4d",
   "metadata": {
    "slideshow": {
     "slide_type": "fragment"
    }
   },
   "source": [
    "Note: The first element *should* be 0: We need to include $x_0$ explicitly.\n",
    "```python\n",
    "x_trajectory = np.hstack([x0, x0 + np.cumsum(steps)])\n",
    "```"
   ]
  },
  {
   "cell_type": "markdown",
   "id": "c4e733e1",
   "metadata": {
    "slideshow": {
     "slide_type": "subslide"
    }
   },
   "source": [
    "Generate trajectory:\n",
    "\n",
    "   $$\n",
    "   x_{k} = x_0 + \\sum_{j=0}^{k} \\Delta x_j\n",
    "   $$\n",
    "\n",
    "with $\\Delta x_0 = 0$."
   ]
  },
  {
   "cell_type": "code",
   "execution_count": null,
   "id": "31dcd672",
   "metadata": {
    "slideshow": {
     "slide_type": "fragment"
    }
   },
   "outputs": [],
   "source": [
    "steps = rng.normal(loc=0, scale=sigma, size=max_steps+1)     # note size\n",
    "steps[0] = 0                                                 # dx_0 = 0"
   ]
  },
  {
   "cell_type": "code",
   "execution_count": null,
   "id": "f1b56694",
   "metadata": {
    "slideshow": {
     "slide_type": "fragment"
    }
   },
   "outputs": [],
   "source": [
    "x_trajectory = x0 + np.cumsum(steps)"
   ]
  },
  {
   "cell_type": "code",
   "execution_count": null,
   "id": "a0c82031",
   "metadata": {
    "slideshow": {
     "slide_type": "fragment"
    }
   },
   "outputs": [],
   "source": [
    "x_trajectory.shape"
   ]
  },
  {
   "cell_type": "code",
   "execution_count": null,
   "id": "29f032dd",
   "metadata": {},
   "outputs": [],
   "source": [
    "x_trajectory[:5]"
   ]
  },
  {
   "cell_type": "markdown",
   "id": "c2169406",
   "metadata": {
    "slideshow": {
     "slide_type": "subslide"
    }
   },
   "source": [
    "### Plot random diffusion trajectory"
   ]
  },
  {
   "cell_type": "code",
   "execution_count": null,
   "id": "3060069b",
   "metadata": {
    "slideshow": {
     "slide_type": "fragment"
    }
   },
   "outputs": [],
   "source": [
    "times = dt * np.arange(len(x_trajectory))"
   ]
  },
  {
   "cell_type": "code",
   "execution_count": null,
   "id": "548fca17",
   "metadata": {
    "slideshow": {
     "slide_type": "fragment"
    }
   },
   "outputs": [],
   "source": [
    "plt.plot(times, x_trajectory)\n",
    "plt.xlabel(\"time (s)\")\n",
    "plt.ylabel(\"position (m)\");"
   ]
  },
  {
   "cell_type": "markdown",
   "id": "b25eb7aa",
   "metadata": {
    "slideshow": {
     "slide_type": "subslide"
    }
   },
   "source": [
    "### Generate multiple trajectories\n",
    "\n",
    "Each simulation run is different (**stochastic**): What is the *average* behavior?\n",
    "\n",
    "Run multiple repeats:"
   ]
  },
  {
   "cell_type": "code",
   "execution_count": null,
   "id": "0c7d8051",
   "metadata": {},
   "outputs": [],
   "source": [
    "N_repeats = 100"
   ]
  },
  {
   "cell_type": "code",
   "execution_count": null,
   "id": "63567f2b",
   "metadata": {
    "slideshow": {
     "slide_type": "fragment"
    }
   },
   "outputs": [],
   "source": [
    "steps = rng.normal(loc=0, scale=sigma, size=(N_repeats, max_steps+1))\n",
    "steps[:, 0] = 0       # step 0 with dx=0"
   ]
  },
  {
   "cell_type": "code",
   "execution_count": null,
   "id": "4652f821",
   "metadata": {
    "slideshow": {
     "slide_type": "fragment"
    }
   },
   "outputs": [],
   "source": [
    "steps.shape"
   ]
  },
  {
   "cell_type": "code",
   "execution_count": null,
   "id": "5b4ff836",
   "metadata": {
    "slideshow": {
     "slide_type": "fragment"
    }
   },
   "outputs": [],
   "source": [
    "x_trajectories = x0 + np.cumsum(steps, axis=1)"
   ]
  },
  {
   "cell_type": "code",
   "execution_count": null,
   "id": "92550dd3",
   "metadata": {
    "slideshow": {
     "slide_type": "fragment"
    }
   },
   "outputs": [],
   "source": [
    "x_trajectories.shape"
   ]
  },
  {
   "cell_type": "markdown",
   "id": "7fce1e08",
   "metadata": {
    "slideshow": {
     "slide_type": "subslide"
    }
   },
   "source": [
    "Plot the **ensemble of trajectories**"
   ]
  },
  {
   "cell_type": "code",
   "execution_count": null,
   "id": "ec45f704",
   "metadata": {
    "scrolled": true
   },
   "outputs": [],
   "source": [
    "times = dt * np.arange(x_trajectories.shape[1])\n",
    "plt.plot(times, x_trajectories.T, alpha=0.5);\n",
    "plt.xlabel(\"time (s)\")\n",
    "plt.ylabel(\"position (m)\");"
   ]
  },
  {
   "cell_type": "markdown",
   "id": "9ca3c2b8",
   "metadata": {
    "slideshow": {
     "slide_type": "subslide"
    }
   },
   "source": [
    "To show more clearly the distribution of trajectories, with the first one hightlighted:"
   ]
  },
  {
   "cell_type": "code",
   "execution_count": null,
   "id": "ca9acaca",
   "metadata": {
    "slideshow": {
     "slide_type": "-"
    }
   },
   "outputs": [],
   "source": [
    "times = dt * np.arange(x_trajectories.shape[1])\n",
    "plt.plot(times, x_trajectories.T, color=\"black\", alpha=0.1);\n",
    "plt.plot(times, x_trajectories[0], color=\"red\", linewidth=3);\n",
    "plt.xlabel(\"time (s)\")\n",
    "plt.ylabel(\"position (m)\")\n",
    "plt.savefig(\"diffusion_trajectories.png\")"
   ]
  },
  {
   "cell_type": "markdown",
   "id": "7783f5f9",
   "metadata": {
    "slideshow": {
     "slide_type": "slide"
    }
   },
   "source": [
    "## Analysing stochastic trajectories\n",
    "\n",
    "Given the **trajectory ensemble**, what is the **average** behavior (what are the underlying physical laws that are obscured by the stochasticity?)"
   ]
  },
  {
   "cell_type": "markdown",
   "id": "0cd7dc97",
   "metadata": {
    "slideshow": {
     "slide_type": "fragment"
    }
   },
   "source": [
    "#### Mean position\n",
    "\n",
    "Average (mean) position over $N$ trajectories $x_j(t)$\n",
    "\n",
    "$$\n",
    "\\bar x(t) = \\langle x(t) \\rangle = \\frac{1}{N} \\sum_{j=1}^N x_j(t)\n",
    "$$ \n",
    "\n",
    "where the average is performed *at each time step* $k$ (for $t = k \\Delta t$):\n",
    "\n",
    "$$\n",
    "\\bar x_k = \\langle x_k \\rangle = \\frac{1}{N} \\sum_{j=1}^N x_{j,k}\n",
    "$$ "
   ]
  },
  {
   "cell_type": "code",
   "execution_count": null,
   "id": "9e26b07a",
   "metadata": {
    "slideshow": {
     "slide_type": "fragment"
    }
   },
   "outputs": [],
   "source": [
    "x_mean = x_trajectories.mean(axis=0)\n",
    "x_mean.shape"
   ]
  },
  {
   "cell_type": "markdown",
   "id": "e1fae0a5",
   "metadata": {
    "slideshow": {
     "slide_type": "subslide"
    }
   },
   "source": [
    "Plot the mean position $\\bar{x}(t)$:"
   ]
  },
  {
   "cell_type": "code",
   "execution_count": null,
   "id": "7336e052",
   "metadata": {},
   "outputs": [],
   "source": [
    "plt.plot(times, x_mean)\n",
    "plt.xlabel(\"time (s)\")\n",
    "plt.ylabel(\"average position (m)\");"
   ]
  },
  {
   "cell_type": "markdown",
   "id": "f303fadd",
   "metadata": {
    "slideshow": {
     "slide_type": "subslide"
    }
   },
   "source": [
    "To put it into perspective: the mean position $\\langle x(t) \\rangle$ is close to 0 when compared to the trajectories themselves:"
   ]
  },
  {
   "cell_type": "code",
   "execution_count": null,
   "id": "39f039ed",
   "metadata": {},
   "outputs": [],
   "source": [
    "plt.plot(times, x_trajectories.T, alpha=0.1, color=\"black\")\n",
    "plt.plot(times, x_mean, linewidth=3)\n",
    "plt.xlabel(\"time (s)\")\n",
    "plt.ylabel(\"average position (m)\");"
   ]
  },
  {
   "cell_type": "markdown",
   "id": "6b40a359",
   "metadata": {},
   "source": [
    "This should not be surprising: the normal distribution has mean 0."
   ]
  },
  {
   "cell_type": "markdown",
   "id": "5ef9c907",
   "metadata": {
    "slideshow": {
     "slide_type": "subslide"
    }
   },
   "source": [
    "#### Distance from starting point\n",
    "\n",
    "Distance from origin $x_0$ is\n",
    "\n",
    "$$\n",
    "d(t) = \\sqrt{(x(t) - x_0)^2}\n",
    "$$\n",
    "\n",
    "with the squared distance\n",
    "\n",
    "$$\n",
    "d^2(t) = (x(t) - x_0)^2\n",
    "$$\n",
    "\n",
    "being the important quantity that measures how far the particle got away from $x_0$.\n",
    "\n",
    "Averaging over many trajectories we obtain the **mean squared distance**\n",
    "\n",
    "$$\n",
    "\\text{MSD}(t) = \\langle d^2(t) \\rangle = \\langle (x(t) - x_0)^2 \\rangle\n",
    "$$\n",
    "\n",
    "\n",
    "The **root mean square distance** is then simply\n",
    "$$\n",
    "\\text{RMSD}(t) = \\sqrt{\\text{MSD}(t)} = \\sqrt{\\langle(x(t) - x_0)^2\\rangle}\n",
    "$$\n",
    "\n",
    "\n"
   ]
  },
  {
   "cell_type": "markdown",
   "id": "1273a18a",
   "metadata": {
    "slideshow": {
     "slide_type": "subslide"
    }
   },
   "source": [
    "For a single trajectory, the $d^2(t)$ is noisy:"
   ]
  },
  {
   "cell_type": "code",
   "execution_count": null,
   "id": "1b89f87a",
   "metadata": {},
   "outputs": [],
   "source": [
    "D2 = (x_trajectory - x0)**2"
   ]
  },
  {
   "cell_type": "code",
   "execution_count": null,
   "id": "c565f25e",
   "metadata": {},
   "outputs": [],
   "source": [
    "plt.plot(times, D2)\n",
    "plt.xlabel(\"time (s)\")\n",
    "plt.ylabel(r\"$d^2(t)$ (m$^2$)\");"
   ]
  },
  {
   "cell_type": "markdown",
   "id": "2930297e",
   "metadata": {
    "slideshow": {
     "slide_type": "subslide"
    }
   },
   "source": [
    "Averaging $d^2(t)$ over many trajectories gives the MSD:"
   ]
  },
  {
   "cell_type": "code",
   "execution_count": null,
   "id": "6cb2b4ac",
   "metadata": {},
   "outputs": [],
   "source": [
    "MSD = np.mean((x_trajectories - x0)**2, axis=0)"
   ]
  },
  {
   "cell_type": "code",
   "execution_count": null,
   "id": "d4b12fdd",
   "metadata": {
    "slideshow": {
     "slide_type": "fragment"
    }
   },
   "outputs": [],
   "source": [
    "plt.plot(times, MSD)\n",
    "plt.xlabel(\"time (s)\")\n",
    "plt.ylabel(r\"$\\mathrm{MSD}(t)$ (m$^2$)\");"
   ]
  },
  {
   "cell_type": "markdown",
   "id": "6978e590",
   "metadata": {
    "slideshow": {
     "slide_type": "subslide"
    }
   },
   "source": [
    "The MSD is approximately linear with time, as given by the Einstein diffusion equation (in 1D)\n",
    "\n",
    "$$\n",
    "\\lim_{t\\rightarrow\\infty} \\text{MSD}(t) =  2 D t\n",
    "$$\n",
    "\n",
    "With the  [Einstein relation](https://en.wikipedia.org/wiki/Einstein_relation_(kinetic_theory)) (also: a fluctation-dissipation theorem for diffusion coefficient $D$ and drag coefficient $\\zeta$)\n",
    "\n",
    "$$\n",
    "D = \\frac{kT}{\\zeta} \\quad\\text{and}\\quad \\zeta = m\\gamma\n",
    "$$\n",
    "we can plot the theoretical MSD.\n",
    "\n",
    "An equivalent form uses the mobility $\\mu = \\zeta^{-1}$ ($\\mathbf{v} = \\mu \\mathbf{F}$)\n",
    "\n",
    "$$\n",
    "D = \\mu kT\n",
    "$$\n"
   ]
  },
  {
   "cell_type": "code",
   "execution_count": null,
   "id": "29a46e0a",
   "metadata": {},
   "outputs": [],
   "source": [
    "D = kB * T / (m * gamma)\n",
    "print(D)"
   ]
  },
  {
   "cell_type": "code",
   "execution_count": null,
   "id": "40676e26",
   "metadata": {},
   "outputs": [],
   "source": [
    "MSD_theory = 2 * D * times"
   ]
  },
  {
   "cell_type": "markdown",
   "id": "511981f4",
   "metadata": {
    "slideshow": {
     "slide_type": "subslide"
    }
   },
   "source": [
    "Simulation and theoretical MSD plotted together:"
   ]
  },
  {
   "cell_type": "code",
   "execution_count": null,
   "id": "5489d7bf",
   "metadata": {},
   "outputs": [],
   "source": [
    "plt.plot(times, MSD, label=\"simulation\")\n",
    "plt.plot(times, MSD_theory, label=\"theory\")\n",
    "plt.xlabel(\"time (s)\")\n",
    "plt.ylabel(r\"$\\mathrm{MSD}(t)$ (m$^2$)\")\n",
    "plt.legend();"
   ]
  },
  {
   "cell_type": "markdown",
   "id": "f11f1f75",
   "metadata": {
    "slideshow": {
     "slide_type": "slide"
    }
   },
   "source": [
    "# Further exploration\n",
    "\n",
    "- Increase the number of trajectories: Does the MSD get closer to the theorectical value?\n",
    "- Increase the length of trajectories: Does the MSD get closer to the theorectical value?\n",
    "- Estimate the distribution $p(x(t))$ (hint: use the histogram over the ensemble at fixed times $t$ and fix the bins; this distribution evolves over time); compare to the theoretical distribution (which is a Gaussian — why?)\n",
    "- Obtain an estimate of $D$ from the trajectories.\n",
    "- Have the particles move in a potential $U(x)$ and include the deterministic force,\n",
    "- Extend the code to 2D. (Note: in $d$ dimensions, $\\lim_{t\\rightarrow+\\infty} \\langle (\\mathbf{x}(t) - \\mathbf{x}_0)^2\\rangle = 2dDt$)"
   ]
  },
  {
   "cell_type": "markdown",
   "id": "9ea519cb",
   "metadata": {
    "slideshow": {
     "slide_type": "slide"
    }
   },
   "source": [
    "# Appendix\n"
   ]
  },
  {
   "cell_type": "markdown",
   "id": "f64239fb",
   "metadata": {},
   "source": [
    "## Parameters for the Brome Mosaic Virus "
   ]
  },
  {
   "cell_type": "markdown",
   "id": "1b3a105f",
   "metadata": {},
   "source": [
    "Data for the Brome Mosaic Virus\n",
    "* [mass](https://bionumbers.hms.harvard.edu/search.aspx?task=searchbytrmorg&log=y&trm=Brome%20Mosaic%20Virus) 4.6e3 kDa\n",
    "* [D](https://bionumbers.hms.harvard.edu/bionumber.aspx?id=105894&ver=2&trm=Brome+Mosaic+Virus&org=) = 15.5 µm^2 s^-1 (T = 20ºC)"
   ]
  },
  {
   "cell_type": "code",
   "execution_count": null,
   "id": "32cbae01",
   "metadata": {},
   "outputs": [],
   "source": [
    "Da = 1.660539066601e-27 # kg\n",
    "T = 20 + 273.15 # K\n",
    "kB = 1.380649e-23 # J/K\n",
    "\n",
    "m_BMV = 4.6e3 * 1e3 * Da # kg\n",
    "D_BMV = 15.5 * (1e-6)**2 # m^2/s "
   ]
  },
  {
   "cell_type": "code",
   "execution_count": null,
   "id": "81683788",
   "metadata": {},
   "outputs": [],
   "source": [
    "print(f\"mass = {m_BMV:.2g} kg\")\n",
    "print(f\"T = {T:.1f} K\")"
   ]
  },
  {
   "cell_type": "markdown",
   "id": "91c9aef4",
   "metadata": {},
   "source": [
    "$\\gamma$ from [Einstein relation](https://en.wikipedia.org/wiki/Einstein_relation_(kinetic_theory)) (fluctuation-dissipation relationship between diffusion coefficient $D$ and drag coefficient $\\zeta = m\\gamma$)\n",
    "\\begin{align}\n",
    "D &= \\frac{kT}{\\zeta} = \\frac{kT}{m\\gamma}\\\\\n",
    "\\gamma &= \\frac{kT}{mD}\n",
    "\\end{align}"
   ]
  },
  {
   "cell_type": "code",
   "execution_count": null,
   "id": "18b63ee7",
   "metadata": {},
   "outputs": [],
   "source": [
    "gamma_BMV = kB*T / (m_BMV * D_BMV)\n",
    "print(f\"gamma = {gamma_BMV:.2g} s^-1\")"
   ]
  },
  {
   "cell_type": "markdown",
   "id": "217b268c",
   "metadata": {},
   "source": [
    "## Finding $D$ by linear fit"
   ]
  },
  {
   "cell_type": "markdown",
   "id": "35b804e7",
   "metadata": {},
   "source": [
    "We can use [scipy.optimize.curve_fit()](https://docs.scipy.org/doc/scipy/reference/generated/scipy.optimize.curve_fit.html#scipy.optimize.curve_fit) as a \"black box\" fitting function (it minimizes the RMSD between fit function and data):"
   ]
  },
  {
   "cell_type": "code",
   "execution_count": null,
   "id": "f38cc84d",
   "metadata": {},
   "outputs": [],
   "source": [
    "# with scipy\n",
    "from scipy import optimize\n",
    "\n",
    "def diff_fit(t, D, x0=0):\n",
    "    return 2 * D * t  + x0"
   ]
  },
  {
   "cell_type": "code",
   "execution_count": null,
   "id": "4c172136",
   "metadata": {},
   "outputs": [],
   "source": [
    "params, params_covariance = optimize.curve_fit(diff_fit, times, MSD, p0=[1])\n",
    "D_fit, = params\n",
    "\n",
    "print(f\"D = {D:.2g}   D_fit = {D_fit:.2g}\")"
   ]
  },
  {
   "cell_type": "code",
   "execution_count": null,
   "id": "ad54115d",
   "metadata": {},
   "outputs": [],
   "source": [
    "MSD_fit = diff_fit(times, D_fit)\n",
    "\n",
    "plt.plot(times, MSD, label=\"simulation\")\n",
    "plt.plot(times, MSD_theory, label=r\"theory $D={0:.3g}\\,\\mathrm{{m}}^2\\cdot\\mathrm{{s}}^{{-1}}$\".format(D))\n",
    "plt.plot(times, MSD_fit, linestyle=\"--\", linewidth=2,\n",
    "         label=r\"fit $D_\\mathrm{{fit}}={0:.3g}\\,\\mathrm{{m}}^2\\cdot\\mathrm{{s}}^{{-1}}$\".format(D_fit))\n",
    "plt.xlabel(\"time (s)\")\n",
    "plt.ylabel(r\"$\\mathrm{MSD}(t)$ (m$^2$)\")\n",
    "plt.legend()\n",
    "plt.savefig(\"diffusion_sim_theory_fit.png\")"
   ]
  },
  {
   "cell_type": "code",
   "execution_count": null,
   "id": "d69c491b",
   "metadata": {},
   "outputs": [],
   "source": []
  }
 ],
 "metadata": {
  "celltoolbar": "Slideshow",
  "kernelspec": {
   "display_name": "Python 3 (ipykernel)",
   "language": "python",
   "name": "python3"
  },
  "language_info": {
   "codemirror_mode": {
    "name": "ipython",
    "version": 3
   },
   "file_extension": ".py",
   "mimetype": "text/x-python",
   "name": "python",
   "nbconvert_exporter": "python",
   "pygments_lexer": "ipython3",
   "version": "3.11.8"
  }
 },
 "nbformat": 4,
 "nbformat_minor": 5
}
