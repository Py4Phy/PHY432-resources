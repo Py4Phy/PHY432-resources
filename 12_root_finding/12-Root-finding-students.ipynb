{
 "cells": [
  {
   "cell_type": "markdown",
   "metadata": {},
   "source": [
    "# 12 Root Finding (Students)\n",
    "\n",
    "An important tool in the computational tool box is to find roots of equations for which no closed form solutions exist:"
   ]
  },
  {
   "cell_type": "markdown",
   "metadata": {},
   "source": [
    "We want to find the roots $x_0$ of\n",
    "\n",
    "$$\n",
    "f(x_0) = 0\n",
    "$$"
   ]
  },
  {
   "cell_type": "markdown",
   "metadata": {},
   "source": [
    "## Problem: Projectile range \n",
    "The equations of motion for the projectile with linear air resistance (see *11 ODE applications*) can be solved exactly.\n",
    "\n",
    "As a reminder: the linear drag force is\n",
    "\\begin{align}\n",
    "\\mathbf{F}_1 &= -b_1 \\mathbf{v}\\\\\n",
    "b &:= \\frac{b_1}{m}\n",
    "\\end{align}\n",
    "\n",
    "Equations of motion with force due to gravity $\\mathbf{g} = -g \\hat{\\mathbf{e}}_y$\n",
    "\n",
    "\\begin{align}\n",
    "\\frac{d\\mathbf{r}}{dt} &= \\mathbf{v}\\\\\n",
    "\\frac{d\\mathbf{v}}{dt} &= - g \\hat{\\mathbf{e}}_y -b \\mathbf{v} \n",
    "\\end{align}"
   ]
  },
  {
   "cell_type": "markdown",
   "metadata": {},
   "source": [
    "### Analytical solution of the equations of motion\n",
    "(Following Wang Ch 3.3.2)\n",
    "\n",
    "Solve $x$ component of the velocity \n",
    "\n",
    "$$\n",
    "\\frac{dv_x}{dt} = -b v_x\n",
    "$$\n",
    "\n",
    "by integration:\n",
    "\n",
    "$$\n",
    "v_x(t) = v_{0x} \\exp(-bt)\n",
    "$$\n",
    "\n",
    "The drag force reduces the forward velocity to 0.\n",
    "\n",
    "Integrate again to get the $x(t)$ component\n",
    "\n",
    "$$\n",
    "x(t) = x_0 + \\frac{v_{0x}}{b}\\left[1 - \\exp(-bt)\\right]\n",
    "$$"
   ]
  },
  {
   "cell_type": "markdown",
   "metadata": {},
   "source": [
    "Integrating the $y$ component of the velocity\n",
    "\n",
    "$$\n",
    "\\frac{dv_y}{dt} = -g - b v_y\n",
    "$$\n",
    "\n",
    "gives\n",
    "\n",
    "$$\n",
    "v_y = \\left(v_{0y} + \\frac{g}{b}\\right) \\exp(-bt) - \\frac{g}{b}\n",
    "$$\n",
    "\n",
    "and integrating again\n",
    "\n",
    "$$\n",
    "y(t) = y_0 + \\frac{v_{0y} + \\frac{g}{b}}{b} \\left[1 - \\exp(-bt)\\right] - \\frac{g}{b} t\n",
    "$$\n",
    "\n",
    "(Note: This shows immediately that the *terminal velocity* is\n",
    "\n",
    "$$\n",
    "\\lim_{t\\rightarrow\\infty} v_y(t) = - \\frac{g}{b},\n",
    "$$\n",
    "\n",
    "i.e., the force of gravity is balanced by the drag force.)"
   ]
  },
  {
   "cell_type": "markdown",
   "metadata": {},
   "source": [
    "#### Analytical trajectory "
   ]
  },
  {
   "cell_type": "markdown",
   "metadata": {},
   "source": [
    "To obtain the **trajectory $y(x)$** eliminate time (and for convenience, using the origin as the initial starting point, $x_0 = 0$ and $y_0 = 0$. Solve $x(t)$ for $t$\n",
    "\n",
    "$$\n",
    "t = -\\frac{1}{b} \\ln \\left(1 - \\frac{bx}{v_{0x}}\\right)\n",
    "$$\n",
    "\n",
    "and insert into $y(t)$:\n",
    "\n",
    "$$\n",
    "y(x) = \\frac{x}{v_{0x}} \\left( v_{0y} + \\frac{g}{b} \\right) + \\frac{g}{b^2} \\ln \\left(1 - \\frac{bx}{v_{0x}}\\right)\n",
    "$$"
   ]
  },
  {
   "cell_type": "markdown",
   "metadata": {},
   "source": [
    "#### Plot "
   ]
  },
  {
   "cell_type": "markdown",
   "metadata": {},
   "source": [
    "Plot the analytical solution $y(x)$ for $\\theta = 30^\\circ$ and $v_0 = 100$ m/s."
   ]
  },
  {
   "cell_type": "code",
   "execution_count": null,
   "metadata": {},
   "outputs": [],
   "source": [
    "import numpy as np\n",
    "import matplotlib.pyplot as plt\n",
    "%matplotlib inline\n",
    "plt.style.use('ggplot')"
   ]
  },
  {
   "cell_type": "markdown",
   "metadata": {},
   "source": [
    "The function `y_lindrag()` should compute $y(x)$. "
   ]
  },
  {
   "cell_type": "code",
   "execution_count": null,
   "metadata": {},
   "outputs": [],
   "source": [
    "def y_lindrag(x, v0, b1=0.2, g=9.81, m=0.5):\n",
    "    b = b1/m\n",
    "    v0x, v0y = v0\n",
    "    # IMPLEMENT FUNCTION\n",
    "\n",
    "\n",
    "def initial_v(v, theta):\n",
    "    x = np.deg2rad(theta)\n",
    "    return v * np.array([np.cos(x), np.sin(x)])"
   ]
  },
  {
   "cell_type": "code",
   "execution_count": null,
   "metadata": {},
   "outputs": [],
   "source": [
    "X = np.concatenate([np.linspace(0, 42, 100), np.linspace(42, 45, 1000)])\n",
    "Y = y_lindrag(X, initial_v(100, 30), b1=1)"
   ]
  },
  {
   "cell_type": "code",
   "execution_count": null,
   "metadata": {
    "scrolled": true
   },
   "outputs": [],
   "source": [
    "# PLOT"
   ]
  },
  {
   "cell_type": "markdown",
   "metadata": {},
   "source": [
    "Compare to the numerical solution (from **11 ODE Applications**):"
   ]
  },
  {
   "cell_type": "code",
   "execution_count": null,
   "metadata": {},
   "outputs": [],
   "source": [
    "import ode\n",
    "\n",
    "def simulate(v0, h=0.01, b1=0.2, g=9.81, m=0.5):\n",
    "    def f(t, y):\n",
    "        # y = [x, y, vx, vy]\n",
    "        return np.array([y[2], y[3], -b1/m * y[2], -g - b1/m * y[3]])\n",
    "\n",
    "    vx, vy = v0\n",
    "    t = 0\n",
    "    positions = []\n",
    "    y = np.array([0, 0, vx, vy], dtype=np.float64)\n",
    "    \n",
    "    while y[1] >= 0:\n",
    "        positions.append([t, y[0], y[1]])  # record t, x and y\n",
    "        t += h\n",
    "        y[:] = ode.rk4(y, f, t, h)\n",
    "        \n",
    "    return np.array(positions)"
   ]
  },
  {
   "cell_type": "code",
   "execution_count": null,
   "metadata": {},
   "outputs": [],
   "source": [
    "r = simulate(initial_v(100, 30), h=0.01, b1=1)"
   ]
  },
  {
   "cell_type": "code",
   "execution_count": null,
   "metadata": {},
   "outputs": [],
   "source": [
    "plt.plot(X, Y, lw=2, label=\"analytical\")\n",
    "plt.plot(r[:, 1], r[:, 2], '--', label=\"RK4\")\n",
    "plt.legend(loc=\"best\")\n",
    "plt.xlabel(\"$x$ (m)\"); plt.ylabel(\"$y$ (m)\")"
   ]
  },
  {
   "cell_type": "markdown",
   "metadata": {},
   "source": [
    "### Predict the range $R$\n",
    "How far does the ball or projectile fly, i.e., that value $x=R$ where $y(R) = 0$:\n",
    "\n",
    "$$\n",
    "\\frac{R}{v_{0x}} \\left( v_{0y} + \\frac{g}{b} \\right) + \\frac{g}{b^2} \\ln \\left(1 - \\frac{bR}{v_{0x}}\\right) = 0\n",
    "$$\n",
    "\n",
    "This *transcendental equation* can not be solved in terms of elementary functions."
   ]
  },
  {
   "cell_type": "markdown",
   "metadata": {},
   "source": [
    "Use a **root finding** algorithm."
   ]
  },
  {
   "cell_type": "markdown",
   "metadata": {},
   "source": [
    "## Root-finding with the Bisection algorithm\n",
    "**Bisection** is the simplest (but very robust) root finding algorithm that uses trial-and-error:\n",
    "\n",
    "* bracket the root\n",
    "* refine the brackets\n",
    "* see first part in [12_rootfinding.pdf (PDF)](12_rootfinding.pdf)\n",
    "\n",
    "More specifically: \n",
    "1. determine a bracket that contains the root: $a < x_0 < b$ (i.e., an interval $[a, b]$ with $f(a) > 0$ and $f(b) < 0$ or $f(a) < 0$ and $f(b) > 0$)\n",
    "2. cut bracket in half: $x' = \\frac{1}{2}(a + b)$\n",
    "3. determine in which half the root lies: either in $[a, x']$ or in $[x', b]$: If $f(a) f(x') > 0$ then the root lies in the right half $[x', b]$, otherwise the left half $[a, x']$.\n",
    "4. Change the boundaries $a$ or $b$.\n",
    "5. repeat until $|f(x')| < \\epsilon$."
   ]
  },
  {
   "cell_type": "markdown",
   "metadata": {},
   "source": [
    "### Implementation of Bisection\n",
    "\n",
    "- Test that the initial bracket contains a root; if not, raise a `ValueError`.\n",
    "- If either of the bracket points is a root then return the bracket point.\n",
    "- Allow `Nmax` iterations or until the convergence criterion `eps` is reached.\n",
    "- BONUS: Raise a `RuntimeWarning` if no root was found after `Nmax` iterations, but print the best guess and the error.\n",
    "\n",
    "  NOTE: It's better to fail with an exception than to return incorrect values. Calling code can always use `try... except` to catch your exception."
   ]
  },
  {
   "cell_type": "code",
   "execution_count": null,
   "metadata": {},
   "outputs": [],
   "source": [
    "def bisection(f, a, b, Nmax=100, eps=1e-14):\n",
    "    # IMPLEMENT FUNCTION"
   ]
  },
  {
   "cell_type": "markdown",
   "metadata": {},
   "source": [
    "### Finding the range with the bisection algorithm\n",
    "\n",
    "Define the trial function:\n",
    "\n",
    "Note that our `y_lindrag()` function depends on `x` **and** `v` but `bisect()` only accepts functions `f` that depend on a *single variable*, $f(x)$. We therefore have to wrap `y_lindrag(x, v)` into a function `f(x)` that sets `v` already to a value *outside* the function: [Python's scoping rules](https://stackoverflow.com/questions/291978/short-description-of-the-scoping-rules#292502) say that inside the function `f(x)`, the variable `x` has the value assigned to the argument of `f(x)` but any other variables such as `v` or `b1`, which were *not defined inside `f`*, will get the value that they had *outside `f`* in the *enclosing code*. "
   ]
  },
  {
   "cell_type": "markdown",
   "metadata": {},
   "source": [
    "```python\n",
    "def f(x):\n",
    "    v0 = initial_v(100, 30)\n",
    "    b1 = 1.\n",
    "    return y_lindrag(x, v0, b1=b1)\n",
    "```"
   ]
  },
  {
   "cell_type": "markdown",
   "metadata": {},
   "source": [
    "However, it is a bit messy to rely on using variables from outside the scope. It is cleaner to only use variables defined _inside_ the function. We can achieve this effect by using _keyword arguments_ where we set the default value to the value that we want to use inside our function: In this case, `b1` and `v0` are set as keyword arguments, with the understanding that when `f(x)` is called later, the keyword arguments are never changed and keep their defaults:"
   ]
  },
  {
   "cell_type": "code",
   "execution_count": null,
   "metadata": {},
   "outputs": [],
   "source": [
    "v0 = initial_v(100, 30)\n",
    "b1 = 1.0\n",
    "\n",
    "def f(x, v0=v0, b1=b1):\n",
    "    return y_lindrag(x, v0, b1=b1)"
   ]
  },
  {
   "cell_type": "markdown",
   "metadata": {},
   "source": [
    "The initial bracket $[a_\\text{initial}, b_\\text{initial}]$ is a little bit difficult for this function: choose the right bracket near the point where the argument of the logarithm becomes 0 (which is actually the maximum $x$ value $\\lim_{t\\rightarrow +\\infty} x(t) = \\frac{v_{0x}}{b}$):\n",
    "\n",
    "$$\n",
    "b_\\text{initial} = \\frac{v_{0x}}{b} - \\epsilon'\n",
    "$$\n",
    "\n",
    "where $\\epsilon'$ is a small number."
   ]
  },
  {
   "cell_type": "code",
   "execution_count": null,
   "metadata": {},
   "outputs": [],
   "source": [
    "# use v0 and b1 from above!\n",
    "\n",
    "m = 0.5\n",
    "b = b1/m\n",
    "# COMPLETE: bisection(... , eps=1e-6)"
   ]
  },
  {
   "cell_type": "markdown",
   "metadata": {},
   "source": [
    "### Find the range as a function of the initial angle "
   ]
  },
  {
   "cell_type": "code",
   "execution_count": null,
   "metadata": {
    "scrolled": true
   },
   "outputs": [],
   "source": [
    "b1 = 1.\n",
    "m = 0.5\n",
    "b = b1/m\n",
    "speed = 100  # |v0| initial launch speed\n",
    "u = []       # calculated tuples (angle, range)\n",
    "\n",
    "# IMPLEMENT\n"
   ]
  },
  {
   "cell_type": "code",
   "execution_count": null,
   "metadata": {
    "scrolled": true
   },
   "outputs": [],
   "source": [
    "# PLOT"
   ]
  },
  {
   "cell_type": "markdown",
   "metadata": {},
   "source": [
    "Write a function `find_range()` to calculate the range for a given initial velocity $v_0$ and plot $R(\\theta)$ for $10\\,\\text{m/s} ≤ v_0 ≤ 100\\,\\text{m/s}$."
   ]
  },
  {
   "cell_type": "code",
   "execution_count": null,
   "metadata": {},
   "outputs": [],
   "source": [
    "def find_range(speed, b1=1, m=0.5):\n",
    "    b = b1/m\n",
    "    u = []\n",
    "    for theta in np.arange(1, 90):\n",
    "        v0 = initial_v(speed, theta)\n",
    "        # IMPLEMENT THE REST ...\n",
    "    return np.array(u)"
   ]
  },
  {
   "cell_type": "code",
   "execution_count": null,
   "metadata": {},
   "outputs": [],
   "source": [
    "for speed in (10, 25, 50, 75, 100):\n",
    "    u = find_range(speed)\n",
    "    plt.plot(u[:, 0], u[:, 1], label=\"{} m/s\".format(speed))\n",
    "plt.legend(loc=\"best\")\n",
    "plt.xlabel(r\"launch angle $\\theta$\")\n",
    "plt.ylabel(r\"range $R$ (m)\")\n",
    "# make labels with degree signs\n",
    "ax = plt.gca()\n",
    "ax.xaxis.set_major_formatter(plt.matplotlib.ticker.StrMethodFormatter(r\"{x:g}$\\!^\\circ$\"))"
   ]
  },
  {
   "cell_type": "markdown",
   "metadata": {},
   "source": [
    "## Newton-Raphson algorithm\n",
    "(see derivation in class and in the second part of [12_rootfinding.pdf (PDF)](12_rootfinding.pdf)\n",
    " or [Newton's Method](http://mathworld.wolfram.com/NewtonsMethod.html) on MathWorld)\n"
   ]
  },
  {
   "cell_type": "markdown",
   "metadata": {},
   "source": [
    "### Activity: Implement Newton-Raphson\n",
    "1. Implement the Newton-Raphson algorithm\n",
    "\n",
    "   `while` $|f(x)| > \\epsilon$\n",
    "   \n",
    "   $\\Delta x = -\\frac{f(x))}{f'(x)}$\n",
    "   \n",
    "   $x \\leftarrow x + \\Delta x$\n",
    "   \n",
    "   Use a *finite difference* algorithm (which one?) with step size $h$ to compute $f'(x)$. (In other cases you might want to use the analytical derivative if it is available.)  \n",
    "2. Test with $g(x)$.\n",
    "\n",
    "   $$\n",
    "   g(x) = 2 \\cos x - x\n",
    "   $$\n",
    "   \n",
    "3. Bonus: test performance of `newton_raphson()` and `bisection()` (e.g. for our function $g(x)$).\n",
    "   * Under which circumstances is bisection faster than Newton-Raphson?\n",
    "   * Can you *combine* the two algorithms to create a root finder that is faster than either by itself?"
   ]
  },
  {
   "cell_type": "code",
   "execution_count": null,
   "metadata": {},
   "outputs": [],
   "source": [
    "def g(x):\n",
    "    return 2*np.cos(x) - x"
   ]
  },
  {
   "cell_type": "code",
   "execution_count": null,
   "metadata": {},
   "outputs": [],
   "source": [
    "xvals = np.linspace(0, 7, 30)\n",
    "plt.plot(xvals, np.zeros_like(xvals), 'k--')\n",
    "plt.plot(xvals, g(xvals))"
   ]
  },
  {
   "cell_type": "code",
   "execution_count": null,
   "metadata": {},
   "outputs": [],
   "source": [
    "def newton_raphson(f, x, h=1e-3, Nmax=100, eps=1e-14):\n",
    "    # IMPLEMENT ME"
   ]
  },
  {
   "cell_type": "code",
   "execution_count": null,
   "metadata": {},
   "outputs": [],
   "source": [
    "newton_raphson(g, 0)"
   ]
  },
  {
   "cell_type": "code",
   "execution_count": null,
   "metadata": {},
   "outputs": [],
   "source": []
  }
 ],
 "metadata": {
  "anaconda-cloud": {},
  "kernelspec": {
   "display_name": "Python 3 (ipykernel)",
   "language": "python",
   "name": "python3"
  },
  "language_info": {
   "codemirror_mode": {
    "name": "ipython",
    "version": 3
   },
   "file_extension": ".py",
   "mimetype": "text/x-python",
   "name": "python",
   "nbconvert_exporter": "python",
   "pygments_lexer": "ipython3",
   "version": "3.11.7"
  }
 },
 "nbformat": 4,
 "nbformat_minor": 4
}
