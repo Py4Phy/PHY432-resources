{
 "cells": [
  {
   "cell_type": "markdown",
   "metadata": {},
   "source": [
    "# 12 Root Finding\n",
    "\n",
    "An important tool in the computational tool box is to find roots of equations for which no closed form solutions exist:"
   ]
  },
  {
   "cell_type": "markdown",
   "metadata": {},
   "source": [
    "We want to find the roots $x_0$ of\n",
    "\n",
    "$$\n",
    "f(x_0) = 0\n",
    "$$"
   ]
  },
  {
   "cell_type": "markdown",
   "metadata": {},
   "source": [
    "## Problem: Projectile range \n",
    "The equations of motion for the projectile with linear air resistance (see *11 ODE applications*) can be solved exactly.\n",
    "\n",
    "As a reminder: the linear drag force is\n",
    "$$\n",
    "\\mathbf{F}_1 = -b_1 \\mathbf{v}\\\\\n",
    "b := \\frac{b_1}{m}\n",
    "$$\n",
    "\n",
    "Equations of motion with force due to gravity $\\mathbf{g} = -g \\hat{\\mathbf{e}}_y$\n",
    "\n",
    "\\begin{align}\n",
    "\\frac{d\\mathbf{r}}{dt} &= \\mathbf{v}\\\\\n",
    "\\frac{d\\mathbf{v}}{dt} &= - g \\hat{\\mathbf{e}}_y -b \\mathbf{v} \n",
    "\\end{align}"
   ]
  },
  {
   "cell_type": "markdown",
   "metadata": {},
   "source": [
    "### Analytical solution of the equations of motion\n",
    "(Following Wang Ch 3.3.2)\n",
    "\n",
    "Solve $x$ component of the velocity \n",
    "\n",
    "$$\n",
    "\\frac{dv_x}{dt} = -b v_x\n",
    "$$\n",
    "\n",
    "by integration:\n",
    "\n",
    "$$\n",
    "v_x(t) = v_{0x} \\exp(-bt)\n",
    "$$\n",
    "\n",
    "The drag force reduces the forward velocity to 0.\n",
    "\n",
    "Integrate again to get the $x(t)$ component\n",
    "\n",
    "$$\n",
    "x(t) = x_0 + \\frac{v_{0x}}{b} \\left[1 - \\exp(-bt)\\right]\n",
    "$$"
   ]
  },
  {
   "cell_type": "markdown",
   "metadata": {},
   "source": [
    "Integrating the $y$ component of the velocity\n",
    "\n",
    "$$\n",
    "\\frac{dv_y}{dt} = -g - b v_y\n",
    "$$\n",
    "\n",
    "gives\n",
    "\n",
    "$$\n",
    "v_y = \\left(v_{0y} + \\frac{g}{b}\\right) \\exp(-bt) - \\frac{g}{b}\n",
    "$$\n",
    "\n",
    "and integrating again\n",
    "\n",
    "$$\n",
    "y(t) = y_0 + \\frac{v_{0y} + \\frac{g}{b}}{b} \\left[1 - \\exp(-bt)\\right] - \\frac{g}{b} t\n",
    "$$\n",
    "\n",
    "(Note: This shows immediately that the *terminal velocity* is\n",
    "\n",
    "$$\n",
    "\\lim_{t\\rightarrow\\infty} v_y(t) = - \\frac{g}{b},\n",
    "$$\n",
    "\n",
    "i.e., the force of gravity is balanced by the drag force.)"
   ]
  },
  {
   "cell_type": "markdown",
   "metadata": {},
   "source": [
    "#### Analytical trajectory "
   ]
  },
  {
   "cell_type": "markdown",
   "metadata": {},
   "source": [
    "To obtain the **trajectory $y(x)$** eliminate time (and for convenience, using the origin as the initial starting point, $x_0 = 0$ and $y_0 = 0$. Solve $x(t)$ for $t$\n",
    "\n",
    "$$\n",
    "t = -\\frac{1}{b} \\ln \\left(1 - \\frac{bx}{v_{0x}}\\right)\n",
    "$$\n",
    "\n",
    "and insert into $y(t)$:\n",
    "\n",
    "$$\n",
    "y(x) = \\frac{x}{v_{0x}} \\left( v_{0y} + \\frac{g}{b} \\right) + \\frac{g}{b^2} \\ln \\left(1 - \\frac{bx}{v_{0x}}\\right)\n",
    "$$"
   ]
  },
  {
   "cell_type": "markdown",
   "metadata": {},
   "source": [
    "#### Plot "
   ]
  },
  {
   "cell_type": "markdown",
   "metadata": {},
   "source": [
    "Plot the analytical solution $y(x)$ for $\\theta = 30^\\circ$ and $v_0 = 100$ m/s."
   ]
  },
  {
   "cell_type": "code",
   "execution_count": 1,
   "metadata": {},
   "outputs": [],
   "source": [
    "import numpy as np\n",
    "import matplotlib.pyplot as plt\n",
    "%matplotlib inline\n",
    "plt.style.use('ggplot')"
   ]
  },
  {
   "cell_type": "markdown",
   "metadata": {},
   "source": [
    "The function `y_lindrag()` should compute $y(x)$. "
   ]
  },
  {
   "cell_type": "code",
   "execution_count": 2,
   "metadata": {},
   "outputs": [],
   "source": [
    "def y_lindrag(x, v0, b1=0.2, g=9.81, m=0.5):\n",
    "    b = b1/m\n",
    "    v0x, v0y = v0\n",
    "    return x/v0x * (v0y + g/b) + g/(b*b) * np.log(1 - b*x/v0x)\n",
    "\n",
    "def initial_v(v, theta):\n",
    "    x = np.deg2rad(theta)\n",
    "    return v * np.array([np.cos(x), np.sin(x)])"
   ]
  },
  {
   "cell_type": "markdown",
   "metadata": {},
   "source": [
    "The analytical function drops *very* rapidly towards the end ($> 42$ m – found by manual trial-and-error plotting...) so in order to nicely plot the function we use a fairly coarse sampling of points along $x$ for the range $0 \\le x < 42$ and very fine sampling for the last 2 m ($42 \\le x < 45$):"
   ]
  },
  {
   "cell_type": "code",
   "execution_count": 3,
   "metadata": {},
   "outputs": [],
   "source": [
    "X = np.concatenate([np.linspace(0, 42, 100), np.linspace(42, 45, 10000)])"
   ]
  },
  {
   "cell_type": "markdown",
   "metadata": {},
   "source": [
    "Evaluate the function for all $x$ values:"
   ]
  },
  {
   "cell_type": "code",
   "execution_count": 4,
   "metadata": {
    "scrolled": true
   },
   "outputs": [
    {
     "name": "stderr",
     "output_type": "stream",
     "text": [
      "/var/folders/sm/37rm_wm16tq9qsf4n5md98ph0000gp/T/ipykernel_69648/482518341.py:4: RuntimeWarning: invalid value encountered in log\n",
      "  return x/v0x * (v0y + g/b) + g/(b*b) * np.log(1 - b*x/v0x)\n"
     ]
    }
   ],
   "source": [
    "Y = y_lindrag(X, initial_v(100, 30), b1=1)"
   ]
  },
  {
   "cell_type": "markdown",
   "metadata": {},
   "source": [
    "(The warning can be ignored, it just means that some of our `X` values were not approriate and outside the range of validity – when the argument of the logarithm becomes ≤0).\n",
    "\n",
    "To indicate the ground we also plot a dashed black line: note that the analytical solution goes below the dashed line."
   ]
  },
  {
   "cell_type": "code",
   "execution_count": 5,
   "metadata": {
    "scrolled": true
   },
   "outputs": [
    {
     "data": {
      "image/png": "[encoded data removed]",
      "text/plain": [
       "<Figure size 432x288 with 1 Axes>"
      ]
     },
     "metadata": {},
     "output_type": "display_data"
    }
   ],
   "source": [
    "plt.plot(X, Y)\n",
    "plt.xlabel(\"$x$ (m)\")\n",
    "plt.ylabel(\"$y$ (m)\")\n",
    "plt.hlines([0], X[0], X[-1], colors=\"k\", linestyles=\"--\");"
   ]
  },
  {
   "cell_type": "markdown",
   "metadata": {},
   "source": [
    "Compare to the numerical solution (from **11 ODE Applications**):"
   ]
  },
  {
   "cell_type": "code",
   "execution_count": 6,
   "metadata": {},
   "outputs": [],
   "source": [
    "import ode\n",
    "\n",
    "def simulate(v0, h=0.01, b1=0.2, g=9.81, m=0.5):\n",
    "    def f(t, y):\n",
    "        # y = [x, y, vx, vy]\n",
    "        return np.array([y[2], y[3], -b1/m * y[2], -g - b1/m * y[3]])\n",
    "\n",
    "    vx, vy = v0\n",
    "    t = 0\n",
    "    positions = []\n",
    "    y = np.array([0, 0, vx, vy], dtype=np.float64)\n",
    "    \n",
    "    while y[1] >= 0:\n",
    "        positions.append([t, y[0], y[1]])  # record t, x and y\n",
    "        y[:] = ode.rk4(y, f, t, h)\n",
    "        t += h\n",
    "        \n",
    "    return np.array(positions)"
   ]
  },
  {
   "cell_type": "code",
   "execution_count": 7,
   "metadata": {},
   "outputs": [],
   "source": [
    "r = simulate(initial_v(100, 30), h=0.01, b1=1)"
   ]
  },
  {
   "cell_type": "code",
   "execution_count": 8,
   "metadata": {},
   "outputs": [
    {
     "data": {
      "image/png": "[encoded data removed]",
      "text/plain": [
       "<Figure size 432x288 with 1 Axes>"
      ]
     },
     "metadata": {},
     "output_type": "display_data"
    }
   ],
   "source": [
    "plt.plot(X, Y, lw=2, label=\"analytical\")\n",
    "plt.plot(r[:, 1], r[:, 2], '--', label=\"RK4\")\n",
    "plt.legend(loc=\"best\")\n",
    "plt.xlabel(\"$x$ (m)\"); plt.ylabel(\"$y$ (m)\")\n",
    "plt.hlines([0], X[0], X[-1], colors=\"k\", linestyles=\"--\");"
   ]
  },
  {
   "cell_type": "markdown",
   "metadata": {},
   "source": [
    "The RK4 solution tracks the analytical solution perfectly (and we also programmed it to not go below ground...)"
   ]
  },
  {
   "cell_type": "markdown",
   "metadata": {},
   "source": [
    "OPTIONAL: Show the residual\n",
    "\n",
    "$$\n",
    "r = y_\\text{numerical}(x) - y_\\text{analytical}\n",
    "$$"
   ]
  },
  {
   "cell_type": "code",
   "execution_count": 9,
   "metadata": {},
   "outputs": [],
   "source": [
    "residual = r[:, 2] - y_lindrag(r[:, 1], initial_v(100, 30), b1=1)"
   ]
  },
  {
   "cell_type": "code",
   "execution_count": 10,
   "metadata": {},
   "outputs": [
    {
     "data": {
      "image/png": "[encoded data removed]",
      "text/plain": [
       "<Figure size 432x288 with 1 Axes>"
      ]
     },
     "metadata": {},
     "output_type": "display_data"
    }
   ],
   "source": [
    "plt.plot(r[:, 1], residual)\n",
    "plt.xlabel(\"$x$ (m)\"); plt.ylabel(\"residual $r$ (m)\");"
   ]
  },
  {
   "cell_type": "markdown",
   "metadata": {},
   "source": [
    "### Predict the range $R$\n",
    "How far does the ball or projectile fly, i.e., that value $x=R$ where $y(R) = 0$:\n",
    "\n",
    "$$\n",
    "\\frac{R}{v_{0x}} \\left( v_{0y} + \\frac{g}{b} \\right) + \\frac{g}{b^2} \\ln \\left(1 - \\frac{bR}{v_{0x}}\\right) = 0\n",
    "$$\n",
    "\n",
    "This *transcendental equation* can not be solved in terms of elementary functions."
   ]
  },
  {
   "cell_type": "markdown",
   "metadata": {},
   "source": [
    "Use a **root finding** algorithm."
   ]
  },
  {
   "cell_type": "markdown",
   "metadata": {},
   "source": [
    "## Root-finding with the Bisection algorithm\n",
    "**Bisection** is the simplest (but very robust) root finding algorithm that uses trial-and-error:\n",
    "\n",
    "* bracket the root\n",
    "* refine the brackets\n",
    "* see first part in [12_rootfinding.pdf (PDF)](12_rootfinding.pdf)\n",
    "\n",
    "More specifically: \n",
    "1. determine a bracket that contains the root: $a < x_0 < b$ (i.e., an interval $[a, b]$ with $f(a) > 0$ and $f(b) < 0$ or $f(a) < 0$ and $f(b) > 0$)\n",
    "2. cut bracket in half: $x' = \\frac{1}{2}(a + b)$\n",
    "3. determine in which half the root lies: either in $[a, x']$ or in $[x', b]$: If $f(a) f(x') > 0$ then the root lies in the right half $[x', b]$, otherwise the left half $[a, x']$.\n",
    "4. Change the boundaries $a$ or $b$.\n",
    "5. repeat until $|f(x')| < \\epsilon$."
   ]
  },
  {
   "cell_type": "markdown",
   "metadata": {},
   "source": [
    "### Implementation of Bisection\n",
    "\n",
    "- Test that the initial bracket contains a root; if not, raise a `ValueError`.\n",
    "- If either of the bracket points is a root then return the bracket point.\n",
    "- Allow `Nmax` iterations or until the convergence criterion `eps` is reached.\n",
    "- Raise a `RuntimeWarning` if no root was found after `Nmax` iterations, but print the best guess and the error.\n",
    "\n",
    "NOTE: It's better to fail with an exception than to return incorrect values. Calling code can always use `try... except` to catch your exception."
   ]
  },
  {
   "cell_type": "code",
   "execution_count": 11,
   "metadata": {},
   "outputs": [],
   "source": [
    "def bisection(f, a, b, Nmax=100, eps=1e-14):\n",
    "    \"\"\"Find root for function f(x), bracketed by a <= x <= b.\"\"\"\n",
    "    \n",
    "    fa, fb = f(a), f(b)\n",
    "    if np.abs(fa) < eps:\n",
    "        return a\n",
    "    if np.abs(fb) < eps:\n",
    "        return b\n",
    "    \n",
    "    if (fa*fb) > 0:\n",
    "        raise ValueError(f\"bisect: Initial bracket [{a}, {b}] \"\n",
    "                         f\"does not contain a single root\")\n",
    "\n",
    "    for iteration in range(Nmax):\n",
    "        x = (a + b)/2\n",
    "        fx = f(x)\n",
    "        if np.abs(fx) < eps:\n",
    "            break\n",
    "        if f(a) * fx < 0:\n",
    "            # root between a and x: need to change right boundary b <- x\n",
    "            b = x\n",
    "        else:\n",
    "            # root between x and b: need to change left boundary a <- x\n",
    "            a = x\n",
    "    else:\n",
    "        raise RuntimeError(f\"bisect: no root found after {Nmax} iterations (eps={eps}); \"\n",
    "                           f\"best guess is {x} with error {fx}\")\n",
    "    return x"
   ]
  },
  {
   "cell_type": "markdown",
   "metadata": {},
   "source": [
    "### Simple test for `bisection`\n",
    "\n",
    "It's always a good idea to test new code on input where you know the answer.\n",
    "\n",
    "We need a function with known roots, e.g.\n",
    "\n",
    "$$\n",
    "p(x) = (x + 1)(x - 2)x\n",
    "$$\n",
    "\n",
    "with roots -1, 0, 2."
   ]
  },
  {
   "cell_type": "code",
   "execution_count": 12,
   "metadata": {},
   "outputs": [],
   "source": [
    "def p(x):\n",
    "    return (x+1)*(x-2)*x"
   ]
  },
  {
   "cell_type": "code",
   "execution_count": 13,
   "metadata": {
    "scrolled": true
   },
   "outputs": [
    {
     "data": {
      "image/png": "[encoded data removed]",
      "text/plain": [
       "<Figure size 432x288 with 1 Axes>"
      ]
     },
     "metadata": {},
     "output_type": "display_data"
    }
   ],
   "source": [
    "X = np.linspace(-1.5, 2.5, 50)\n",
    "X0 = np.array([-1, 0, 2])\n",
    "plt.plot(X, p(X), 'r-')\n",
    "plt.plot(X0, p(X0), 'r*');"
   ]
  },
  {
   "cell_type": "markdown",
   "metadata": {},
   "source": [
    "Now find some roots with `bisection`:"
   ]
  },
  {
   "cell_type": "code",
   "execution_count": 14,
   "metadata": {},
   "outputs": [
    {
     "data": {
      "text/plain": [
       "(1.9999999999999998, -1.3322676295501877e-15)"
      ]
     },
     "execution_count": 14,
     "metadata": {},
     "output_type": "execute_result"
    }
   ],
   "source": [
    "x0 = bisection(p, 0.3, 3)\n",
    "x0, p(x0)"
   ]
  },
  {
   "cell_type": "code",
   "execution_count": 15,
   "metadata": {},
   "outputs": [
    {
     "data": {
      "text/plain": [
       "(-1.0000000000000022, -6.661338147750959e-15)"
      ]
     },
     "execution_count": 15,
     "metadata": {},
     "output_type": "execute_result"
    }
   ],
   "source": [
    "x0 = bisection(p, -100, -0.5)\n",
    "x0, p(x0)"
   ]
  },
  {
   "cell_type": "code",
   "execution_count": 16,
   "metadata": {},
   "outputs": [
    {
     "data": {
      "text/plain": [
       "(0.0, -0.0)"
      ]
     },
     "execution_count": 16,
     "metadata": {},
     "output_type": "execute_result"
    }
   ],
   "source": [
    "x0 = bisection(p, -0.5, 0.5)\n",
    "x0, p(x0)"
   ]
  },
  {
   "cell_type": "markdown",
   "metadata": {},
   "source": [
    "All the roots are accurate to the given precision."
   ]
  },
  {
   "cell_type": "markdown",
   "metadata": {},
   "source": [
    "Also check that we correctly raise a `ValueError` if the bracket is incorrect:\n",
    "\n",
    "```python\n",
    "x0 = bisection(p, -1.5, 1)\n",
    "```\n",
    "```python\n",
    "---------------------------------------------------------------------------\n",
    "ValueError                                Traceback (most recent call last)\n",
    "Input In [38], in <module>\n",
    "----> 1 x0 = bisection(p, -1.5, 1)\n",
    "\n",
    "Input In [12], in bisection(f, a, b, Nmax, eps)\n",
    "      8     return b\n",
    "     10 if (fa*fb) > 0:\n",
    "---> 11     raise ValueError(f\"bisect: Initial bracket [{a}, {b}] \"\n",
    "     12                      f\"does not contain a single root\")\n",
    "     14 for iteration in range(Nmax):\n",
    "     15     x = (a + b)/2\n",
    "\n",
    "ValueError: bisect: Initial bracket [-1.5, 1] does not contain a single root\n",
    "```"
   ]
  },
  {
   "cell_type": "markdown",
   "metadata": {},
   "source": [
    "### Finding the range with the bisection algorithm\n",
    "\n",
    "Define the trial function `f`.\n",
    "\n",
    "Note that our `y_lindrag()` function depends on `x` **and** `v` but `bisect()` only accepts functions `f` that depend on a *single variable*, $f(x)$. We therefore have to wrap `y_lindrag(x, v)` into a function `f(x)` that sets `v` already to a value *outside* the function: [Python's scoping rules](https://stackoverflow.com/questions/291978/short-description-of-the-scoping-rules#292502) say that inside the function `f(x)`, the variable `x` has the value assigned to the argument of `f(x)` but any other variables such as `v` or `b1`, which were *not defined inside `f`*, will get the value that they had *outside `f`* in the *enclosing code*. "
   ]
  },
  {
   "cell_type": "code",
   "execution_count": 17,
   "metadata": {},
   "outputs": [],
   "source": [
    "def f(x):\n",
    "    b1 = 1.\n",
    "    v0 = initial_v(100, 30)\n",
    "    return y_lindrag(x, v0, b1=b1)"
   ]
  },
  {
   "cell_type": "markdown",
   "metadata": {},
   "source": [
    "However, it is a bit messy to rely on using variables from outside the scope. It is cleaner to only use variables defined _inside_ the function. We can achieve this effect by using _keyword arguments_ where we set the default value to the value that we want to use inside our function: In this case, `b1` and `v0` are set as keyword arguments, with the understanding that when `f(x)` is called later, the keyword arguments are never changed and keep their defaults:"
   ]
  },
  {
   "cell_type": "code",
   "execution_count": 18,
   "metadata": {},
   "outputs": [],
   "source": [
    "v0 = initial_v(100, 30)\n",
    "def f(x, v0=v0, b1 = 1.):\n",
    "    return y_lindrag(x, v0, b1=b1)"
   ]
  },
  {
   "cell_type": "markdown",
   "metadata": {},
   "source": [
    "The initial bracket $[a_\\text{initial}, b_\\text{initial}]$ is a little bit difficult for this function: choose the right bracket near the point where the argument of the logarithm becomes 0 (which is actually the maximum $x$ value $\\lim_{t\\rightarrow +\\infty} x(t) = \\frac{v_{0x}}{b}$):\n",
    "\n",
    "$$\n",
    "b_\\text{initial} = \\frac{v_{0x}}{b} - \\epsilon'\n",
    "$$\n",
    "\n",
    "where $\\epsilon'$ is a small number."
   ]
  },
  {
   "cell_type": "code",
   "execution_count": 19,
   "metadata": {},
   "outputs": [
    {
     "data": {
      "text/plain": [
       "43.30067423347077"
      ]
     },
     "execution_count": 19,
     "metadata": {},
     "output_type": "execute_result"
    }
   ],
   "source": [
    "v = initial_v(100, 30)\n",
    "\n",
    "b1 = 1.\n",
    "m = 0.5\n",
    "b = b1/m\n",
    "bisection(f, 0.1, v[0]/b - 1e-12, eps=1e-6)"
   ]
  },
  {
   "cell_type": "markdown",
   "metadata": {},
   "source": [
    "Note that this solution is *not* the maximum value $\\lim_{t\\rightarrow +\\infty} x(t) = \\frac{v_{0x}}{b}$:"
   ]
  },
  {
   "cell_type": "code",
   "execution_count": 20,
   "metadata": {},
   "outputs": [
    {
     "data": {
      "text/plain": [
       "43.30127018922194"
      ]
     },
     "execution_count": 20,
     "metadata": {},
     "output_type": "execute_result"
    }
   ],
   "source": [
    "v[0]/b"
   ]
  },
  {
   "cell_type": "markdown",
   "metadata": {},
   "source": [
    "### Find the range as a function of the initial angle "
   ]
  },
  {
   "cell_type": "code",
   "execution_count": 21,
   "metadata": {
    "scrolled": true
   },
   "outputs": [
    {
     "name": "stderr",
     "output_type": "stream",
     "text": [
      "/var/folders/sm/37rm_wm16tq9qsf4n5md98ph0000gp/T/ipykernel_69648/482518341.py:4: RuntimeWarning: divide by zero encountered in log\n",
      "  return x/v0x * (v0y + g/b) + g/(b*b) * np.log(1 - b*x/v0x)\n"
     ]
    }
   ],
   "source": [
    "b1 = 1.\n",
    "m = 0.5\n",
    "b = b1/m\n",
    "v0 = 100\n",
    "u = []\n",
    "for theta in np.arange(1, 90):\n",
    "    v = initial_v(v0, theta)\n",
    "    def f(x, v=v):\n",
    "        return y_lindrag(x, v, b1=b1)\n",
    "    R = bisection(f, 0.1, v[0]/b - 1e-16, eps=1e-5)\n",
    "    if R is not None:\n",
    "        u.append((theta, R))\n",
    "u = np.array(u)"
   ]
  },
  {
   "cell_type": "code",
   "execution_count": 22,
   "metadata": {
    "scrolled": true
   },
   "outputs": [
    {
     "data": {
      "image/png": "[encoded data removed]",
      "text/plain": [
       "<Figure size 432x288 with 1 Axes>"
      ]
     },
     "metadata": {},
     "output_type": "display_data"
    }
   ],
   "source": [
    "plt.plot(u[:, 0], u[:, 1])\n",
    "plt.xlabel(r\"launch angle $\\theta$ ($^\\circ$)\")\n",
    "plt.ylabel(r\"range $R$ (m)\");"
   ]
  },
  {
   "cell_type": "markdown",
   "metadata": {},
   "source": [
    "Write a function `find_range()` to calculate the range for a given initial velocity $v_0$ and plot $R(\\theta)$ for $10\\,\\text{m/s} ≤ v_0 ≤ 100\\,\\text{m/s}$.\n",
    "\n",
    "For some angles, our algorithm might not convert with the default `Nmax`. In order to avoid our code stopping with the `RuntimeError` exception, we catch the exception and just print a message, using the `try/except/else` block (note that the `else` is code that is only executed if the `try` succeeded). "
   ]
  },
  {
   "cell_type": "code",
   "execution_count": 23,
   "metadata": {},
   "outputs": [],
   "source": [
    "def find_range(v0, b1=1, m=0.5):\n",
    "    b = b1/m\n",
    "    u = []\n",
    "    for theta in np.linspace(1, 90, 90):\n",
    "        v = initial_v(v0, theta)\n",
    "        def f(x, v=v):\n",
    "            return y_lindrag(x, v, b1=b1)\n",
    "        try:\n",
    "            R = bisection(f, 0.01, v[0]/b - 1e-12, eps=1e-5)\n",
    "        except RuntimeError:\n",
    "            print(f\"NOTE: bisect did not converge for {theta}\")\n",
    "        else:\n",
    "            u.append((theta, R))\n",
    "    return np.array(u)"
   ]
  },
  {
   "cell_type": "code",
   "execution_count": 24,
   "metadata": {},
   "outputs": [
    {
     "name": "stderr",
     "output_type": "stream",
     "text": [
      "/var/folders/sm/37rm_wm16tq9qsf4n5md98ph0000gp/T/ipykernel_69648/482518341.py:4: RuntimeWarning: invalid value encountered in log\n",
      "  return x/v0x * (v0y + g/b) + g/(b*b) * np.log(1 - b*x/v0x)\n",
      "/var/folders/sm/37rm_wm16tq9qsf4n5md98ph0000gp/T/ipykernel_69648/482518341.py:4: RuntimeWarning: invalid value encountered in log\n",
      "  return x/v0x * (v0y + g/b) + g/(b*b) * np.log(1 - b*x/v0x)\n",
      "/var/folders/sm/37rm_wm16tq9qsf4n5md98ph0000gp/T/ipykernel_69648/482518341.py:4: RuntimeWarning: invalid value encountered in log\n",
      "  return x/v0x * (v0y + g/b) + g/(b*b) * np.log(1 - b*x/v0x)\n",
      "/var/folders/sm/37rm_wm16tq9qsf4n5md98ph0000gp/T/ipykernel_69648/482518341.py:4: RuntimeWarning: invalid value encountered in log\n",
      "  return x/v0x * (v0y + g/b) + g/(b*b) * np.log(1 - b*x/v0x)\n"
     ]
    },
    {
     "name": "stdout",
     "output_type": "stream",
     "text": [
      "NOTE: bisect did not converge for 90.0\n",
      "NOTE: bisect did not converge for 90.0\n",
      "NOTE: bisect did not converge for 90.0\n",
      "NOTE: bisect did not converge for 90.0\n",
      "NOTE: bisect did not converge for 90.0\n"
     ]
    },
    {
     "name": "stderr",
     "output_type": "stream",
     "text": [
      "/var/folders/sm/37rm_wm16tq9qsf4n5md98ph0000gp/T/ipykernel_69648/482518341.py:4: RuntimeWarning: invalid value encountered in log\n",
      "  return x/v0x * (v0y + g/b) + g/(b*b) * np.log(1 - b*x/v0x)\n"
     ]
    },
    {
     "data": {
      "image/png": "[encoded data removed]",
      "text/plain": [
       "<Figure size 432x288 with 1 Axes>"
      ]
     },
     "metadata": {},
     "output_type": "display_data"
    }
   ],
   "source": [
    "for v0 in (10, 25, 50, 75, 100):\n",
    "    u = find_range(v0)\n",
    "    plt.plot(u[:, 0], u[:, 1], label=\"{} m/s\".format(v0))\n",
    "plt.legend(loc=\"best\")\n",
    "plt.xlabel(r\"$\\theta$ (degrees)\")\n",
    "plt.ylabel(r\"range $R$ (m)\");"
   ]
  },
  {
   "cell_type": "markdown",
   "metadata": {},
   "source": [
    "As a bonus, find the dependence of the *optimum launch angle* on the initial velocity, i.e., that angle that leads to the largest range:"
   ]
  },
  {
   "cell_type": "code",
   "execution_count": 25,
   "metadata": {},
   "outputs": [
    {
     "data": {
      "text/plain": [
       "10"
      ]
     },
     "execution_count": 25,
     "metadata": {},
     "output_type": "execute_result"
    }
   ],
   "source": [
    "np.argmax(u[:, 1])"
   ]
  },
  {
   "cell_type": "code",
   "execution_count": 26,
   "metadata": {
    "scrolled": false
   },
   "outputs": [
    {
     "name": "stderr",
     "output_type": "stream",
     "text": [
      "/var/folders/sm/37rm_wm16tq9qsf4n5md98ph0000gp/T/ipykernel_69648/482518341.py:4: RuntimeWarning: invalid value encountered in log\n",
      "  return x/v0x * (v0y + g/b) + g/(b*b) * np.log(1 - b*x/v0x)\n"
     ]
    },
    {
     "name": "stdout",
     "output_type": "stream",
     "text": [
      "NOTE: bisect did not converge for 90.0\n",
      "NOTE: bisect did not converge for 90.0\n",
      "NOTE: bisect did not converge for 90.0\n",
      "NOTE: bisect did not converge for 90.0\n",
      "NOTE: bisect did not converge for 90.0\n",
      "NOTE: bisect did not converge for 90.0\n",
      "NOTE: bisect did not converge for 90.0\n",
      "NOTE: bisect did not converge for 90.0\n",
      "NOTE: bisect did not converge for 90.0\n",
      "NOTE: bisect did not converge for 90.0\n",
      "NOTE: bisect did not converge for 90.0\n",
      "NOTE: bisect did not converge for 90.0\n",
      "NOTE: bisect did not converge for 90.0\n",
      "NOTE: bisect did not converge for 90.0\n",
      "NOTE: bisect did not converge for 90.0\n",
      "NOTE: bisect did not converge for 90.0\n",
      "NOTE: bisect did not converge for 90.0\n",
      "NOTE: bisect did not converge for 90.0\n",
      "NOTE: bisect did not converge for 90.0\n",
      "NOTE: bisect did not converge for 90.0\n",
      "NOTE: bisect did not converge for 90.0\n",
      "NOTE: bisect did not converge for 90.0\n",
      "NOTE: bisect did not converge for 90.0\n",
      "NOTE: bisect did not converge for 90.0\n",
      "NOTE: bisect did not converge for 90.0\n",
      "NOTE: bisect did not converge for 90.0\n",
      "NOTE: bisect did not converge for 90.0\n",
      "NOTE: bisect did not converge for 90.0\n",
      "NOTE: bisect did not converge for 90.0\n",
      "NOTE: bisect did not converge for 90.0\n",
      "NOTE: bisect did not converge for 90.0\n",
      "NOTE: bisect did not converge for 90.0\n",
      "NOTE: bisect did not converge for 90.0\n",
      "NOTE: bisect did not converge for 90.0\n",
      "NOTE: bisect did not converge for 90.0\n",
      "NOTE: bisect did not converge for 90.0\n",
      "NOTE: bisect did not converge for 90.0\n",
      "NOTE: bisect did not converge for 90.0\n",
      "NOTE: bisect did not converge for 90.0\n",
      "NOTE: bisect did not converge for 90.0\n",
      "NOTE: bisect did not converge for 90.0\n",
      "NOTE: bisect did not converge for 90.0\n",
      "NOTE: bisect did not converge for 90.0\n",
      "NOTE: bisect did not converge for 90.0\n",
      "NOTE: bisect did not converge for 90.0\n",
      "NOTE: bisect did not converge for 90.0\n",
      "NOTE: bisect did not converge for 90.0\n",
      "NOTE: bisect did not converge for 90.0\n",
      "NOTE: bisect did not converge for 90.0\n",
      "NOTE: bisect did not converge for 90.0\n",
      "NOTE: bisect did not converge for 90.0\n",
      "NOTE: bisect did not converge for 90.0\n",
      "NOTE: bisect did not converge for 90.0\n",
      "NOTE: bisect did not converge for 90.0\n",
      "NOTE: bisect did not converge for 90.0\n",
      "NOTE: bisect did not converge for 90.0\n",
      "NOTE: bisect did not converge for 90.0\n",
      "NOTE: bisect did not converge for 90.0\n",
      "NOTE: bisect did not converge for 90.0\n",
      "NOTE: bisect did not converge for 90.0\n",
      "NOTE: bisect did not converge for 90.0\n",
      "NOTE: bisect did not converge for 90.0\n",
      "NOTE: bisect did not converge for 90.0\n",
      "NOTE: bisect did not converge for 90.0\n",
      "NOTE: bisect did not converge for 90.0\n",
      "NOTE: bisect did not converge for 90.0\n",
      "NOTE: bisect did not converge for 90.0\n",
      "NOTE: bisect did not converge for 90.0\n",
      "NOTE: bisect did not converge for 90.0\n",
      "NOTE: bisect did not converge for 90.0\n",
      "NOTE: bisect did not converge for 90.0\n",
      "NOTE: bisect did not converge for 90.0\n",
      "NOTE: bisect did not converge for 90.0\n",
      "NOTE: bisect did not converge for 90.0\n",
      "NOTE: bisect did not converge for 90.0\n",
      "NOTE: bisect did not converge for 90.0\n",
      "NOTE: bisect did not converge for 90.0\n",
      "NOTE: bisect did not converge for 90.0\n",
      "NOTE: bisect did not converge for 90.0\n",
      "NOTE: bisect did not converge for 90.0\n",
      "NOTE: bisect did not converge for 90.0\n",
      "NOTE: bisect did not converge for 90.0\n",
      "NOTE: bisect did not converge for 90.0\n",
      "NOTE: bisect did not converge for 90.0\n",
      "NOTE: bisect did not converge for 90.0\n",
      "NOTE: bisect did not converge for 90.0\n",
      "NOTE: bisect did not converge for 90.0\n",
      "NOTE: bisect did not converge for 90.0\n",
      "NOTE: bisect did not converge for 90.0\n",
      "NOTE: bisect did not converge for 90.0\n",
      "NOTE: bisect did not converge for 90.0\n",
      "NOTE: bisect did not converge for 90.0\n",
      "NOTE: bisect did not converge for 90.0\n",
      "NOTE: bisect did not converge for 90.0\n",
      "NOTE: bisect did not converge for 90.0\n",
      "NOTE: bisect did not converge for 90.0\n",
      "NOTE: bisect did not converge for 90.0\n",
      "NOTE: bisect did not converge for 90.0\n",
      "NOTE: bisect did not converge for 90.0\n",
      "NOTE: bisect did not converge for 90.0\n"
     ]
    },
    {
     "data": {
      "image/png": "[encoded data removed]",
      "text/plain": [
       "<Figure size 432x288 with 1 Axes>"
      ]
     },
     "metadata": {},
     "output_type": "display_data"
    }
   ],
   "source": [
    "velocities = np.linspace(5, 100, 100)\n",
    "results = []  # (v0, theta_opt)\n",
    "for v0 in velocities:\n",
    "    u = find_range(v0)\n",
    "    thetas, ranges = u.transpose()\n",
    "    # find index for the largest range and pull corresponding theta\n",
    "    theta_opt = thetas[np.argmax(ranges)]\n",
    "    results.append((v0, theta_opt))\n",
    "results = np.array(results)\n",
    "\n",
    "plt.plot(results[:, 0], results[:, 1]) \n",
    "plt.xlabel(r\"velocity $v_0$ (m/s)\")\n",
    "plt.ylabel(r\"$\\theta_\\mathrm{best}$ (degrees)\");"
   ]
  },
  {
   "cell_type": "markdown",
   "metadata": {},
   "source": [
    "The launch angle decreases with the velocity.\n",
    "\n",
    "The steps in the graph are an artifact of choosing to only calculate the trajectories for integer angles (see `for theta in np.linspace(1, 90. 90)` in `find_range()`)."
   ]
  },
  {
   "cell_type": "markdown",
   "metadata": {},
   "source": [
    "## Newton-Raphson algorithm\n",
    "(see derivation in class and in the second part of [12_rootfinding.pdf (PDF)](12_rootfinding.pdf)\n",
    " or [Newton's Method](http://mathworld.wolfram.com/NewtonsMethod.html) on MathWorld)\n"
   ]
  },
  {
   "cell_type": "markdown",
   "metadata": {},
   "source": [
    "### Activity: Implement Newton-Raphson\n",
    "1. Implement the Newton-Raphson algorithm\n",
    "\n",
    "   `while` $|f(x)| > \\epsilon$\n",
    "   \n",
    "   $\\Delta x = -\\frac{f(x))}{f'(x)}$\n",
    "   \n",
    "   $x \\leftarrow x + \\Delta x$\n",
    "   \n",
    "      \n",
    "2. Test with $g(x)$.\n",
    "\n",
    "   $$\n",
    "   g(x) = 2 \\cos x - x\n",
    "   $$\n",
    "   \n",
    "3. Bonus: test performance of `newton_raphson()` against `bisection()`."
   ]
  },
  {
   "cell_type": "code",
   "execution_count": 27,
   "metadata": {},
   "outputs": [],
   "source": [
    "def g(x):\n",
    "    return 2*np.cos(x) - x"
   ]
  },
  {
   "cell_type": "code",
   "execution_count": 28,
   "metadata": {},
   "outputs": [
    {
     "data": {
      "text/plain": [
       "[<matplotlib.lines.Line2D at 0x7fde994353d0>]"
      ]
     },
     "execution_count": 28,
     "metadata": {},
     "output_type": "execute_result"
    },
    {
     "data": {
      "image/png": "[encoded data removed]",
      "text/plain": [
       "<Figure size 432x288 with 1 Axes>"
      ]
     },
     "metadata": {},
     "output_type": "display_data"
    }
   ],
   "source": [
    "xvals = np.linspace(0, 7, 30)\n",
    "plt.plot(xvals, np.zeros_like(xvals), 'k--')\n",
    "plt.plot(xvals, g(xvals))"
   ]
  },
  {
   "cell_type": "code",
   "execution_count": 29,
   "metadata": {},
   "outputs": [],
   "source": [
    "def newton_raphson(f, x, h=1e-3, Nmax=100, eps=1e-14):\n",
    "    \"\"\"Find root x0 so that f(x0)=0 with the Newton-Raphson algorithm\"\"\"\n",
    "    for iteration in range(Nmax):\n",
    "        fx = f(x)\n",
    "        if np.abs(fx) < eps:\n",
    "            break\n",
    "        df = (f(x + h/2) - f(x - h/2))/h\n",
    "        Delta_x = -fx/df\n",
    "        x += Delta_x\n",
    "    else:\n",
    "        raise RuntimeError(f\"Newton-Raphson: no root found after {Nmax} iterations (eps={eps}); \"\n",
    "                           f\"best guess is {x} with error {fx}\")\n",
    "    return x"
   ]
  },
  {
   "cell_type": "code",
   "execution_count": 30,
   "metadata": {},
   "outputs": [
    {
     "name": "stdout",
     "output_type": "stream",
     "text": [
      "1.0298665293222586\n"
     ]
    }
   ],
   "source": [
    "x0 = newton_raphson(g, 2)\n",
    "print(x0)"
   ]
  },
  {
   "cell_type": "code",
   "execution_count": 31,
   "metadata": {},
   "outputs": [
    {
     "data": {
      "text/plain": [
       "6.661338147750939e-16"
      ]
     },
     "execution_count": 31,
     "metadata": {},
     "output_type": "execute_result"
    }
   ],
   "source": [
    "g(x0)"
   ]
  },
  {
   "cell_type": "markdown",
   "metadata": {},
   "source": [
    "But note that the algorithm only converges well near the root. With other values it might not converge at all:"
   ]
  },
  {
   "cell_type": "code",
   "execution_count": 32,
   "metadata": {},
   "outputs": [
    {
     "ename": "RuntimeError",
     "evalue": "Newton-Raphson: no root found after 100 iterations (eps=1e-14); best guess is -9322690.425062027 with error 16607175.892541457",
     "output_type": "error",
     "traceback": [
      "\u001b[0;31m---------------------------------------------------------------------------\u001b[0m",
      "\u001b[0;31mRuntimeError\u001b[0m                              Traceback (most recent call last)",
      "Input \u001b[0;32mIn [32]\u001b[0m, in \u001b[0;36m<module>\u001b[0;34m\u001b[0m\n\u001b[0;32m----> 1\u001b[0m \u001b[43mnewton_raphson\u001b[49m\u001b[43m(\u001b[49m\u001b[43mg\u001b[49m\u001b[43m,\u001b[49m\u001b[43m \u001b[49m\u001b[38;5;241;43m3\u001b[39;49m\u001b[43m)\u001b[49m\n",
      "Input \u001b[0;32mIn [29]\u001b[0m, in \u001b[0;36mnewton_raphson\u001b[0;34m(f, x, h, Nmax, eps)\u001b[0m\n\u001b[1;32m      9\u001b[0m     x \u001b[38;5;241m+\u001b[39m\u001b[38;5;241m=\u001b[39m Delta_x\n\u001b[1;32m     10\u001b[0m \u001b[38;5;28;01melse\u001b[39;00m:\n\u001b[0;32m---> 11\u001b[0m     \u001b[38;5;28;01mraise\u001b[39;00m \u001b[38;5;167;01mRuntimeError\u001b[39;00m(\u001b[38;5;124mf\u001b[39m\u001b[38;5;124m\"\u001b[39m\u001b[38;5;124mNewton-Raphson: no root found after \u001b[39m\u001b[38;5;132;01m{\u001b[39;00mNmax\u001b[38;5;132;01m}\u001b[39;00m\u001b[38;5;124m iterations (eps=\u001b[39m\u001b[38;5;132;01m{\u001b[39;00meps\u001b[38;5;132;01m}\u001b[39;00m\u001b[38;5;124m); \u001b[39m\u001b[38;5;124m\"\u001b[39m\n\u001b[1;32m     12\u001b[0m                        \u001b[38;5;124mf\u001b[39m\u001b[38;5;124m\"\u001b[39m\u001b[38;5;124mbest guess is \u001b[39m\u001b[38;5;132;01m{\u001b[39;00mx\u001b[38;5;132;01m}\u001b[39;00m\u001b[38;5;124m with error \u001b[39m\u001b[38;5;132;01m{\u001b[39;00mfx\u001b[38;5;132;01m}\u001b[39;00m\u001b[38;5;124m\"\u001b[39m)\n\u001b[1;32m     13\u001b[0m \u001b[38;5;28;01mreturn\u001b[39;00m x\n",
      "\u001b[0;31mRuntimeError\u001b[0m: Newton-Raphson: no root found after 100 iterations (eps=1e-14); best guess is -9322690.425062027 with error 16607175.892541457"
     ]
    }
   ],
   "source": [
    "newton_raphson(g, 3)"
   ]
  },
  {
   "cell_type": "code",
   "execution_count": 33,
   "metadata": {},
   "outputs": [
    {
     "data": {
      "text/plain": [
       "1.0298665293222589"
      ]
     },
     "execution_count": 33,
     "metadata": {},
     "output_type": "execute_result"
    }
   ],
   "source": [
    "newton_raphson(g, 10)"
   ]
  },
  {
   "cell_type": "code",
   "execution_count": 34,
   "metadata": {},
   "outputs": [
    {
     "ename": "RuntimeError",
     "evalue": "Newton-Raphson: no root found after 100 iterations (eps=1e-14); best guess is 52.96931452309739 with error -117.5878129311007",
     "output_type": "error",
     "traceback": [
      "\u001b[0;31m---------------------------------------------------------------------------\u001b[0m",
      "\u001b[0;31mRuntimeError\u001b[0m                              Traceback (most recent call last)",
      "Input \u001b[0;32mIn [34]\u001b[0m, in \u001b[0;36m<module>\u001b[0;34m\u001b[0m\n\u001b[0;32m----> 1\u001b[0m \u001b[43mnewton_raphson\u001b[49m\u001b[43m(\u001b[49m\u001b[43mg\u001b[49m\u001b[43m,\u001b[49m\u001b[43m \u001b[49m\u001b[38;5;241;43m15\u001b[39;49m\u001b[43m)\u001b[49m\n",
      "Input \u001b[0;32mIn [29]\u001b[0m, in \u001b[0;36mnewton_raphson\u001b[0;34m(f, x, h, Nmax, eps)\u001b[0m\n\u001b[1;32m      9\u001b[0m     x \u001b[38;5;241m+\u001b[39m\u001b[38;5;241m=\u001b[39m Delta_x\n\u001b[1;32m     10\u001b[0m \u001b[38;5;28;01melse\u001b[39;00m:\n\u001b[0;32m---> 11\u001b[0m     \u001b[38;5;28;01mraise\u001b[39;00m \u001b[38;5;167;01mRuntimeError\u001b[39;00m(\u001b[38;5;124mf\u001b[39m\u001b[38;5;124m\"\u001b[39m\u001b[38;5;124mNewton-Raphson: no root found after \u001b[39m\u001b[38;5;132;01m{\u001b[39;00mNmax\u001b[38;5;132;01m}\u001b[39;00m\u001b[38;5;124m iterations (eps=\u001b[39m\u001b[38;5;132;01m{\u001b[39;00meps\u001b[38;5;132;01m}\u001b[39;00m\u001b[38;5;124m); \u001b[39m\u001b[38;5;124m\"\u001b[39m\n\u001b[1;32m     12\u001b[0m                        \u001b[38;5;124mf\u001b[39m\u001b[38;5;124m\"\u001b[39m\u001b[38;5;124mbest guess is \u001b[39m\u001b[38;5;132;01m{\u001b[39;00mx\u001b[38;5;132;01m}\u001b[39;00m\u001b[38;5;124m with error \u001b[39m\u001b[38;5;132;01m{\u001b[39;00mfx\u001b[38;5;132;01m}\u001b[39;00m\u001b[38;5;124m\"\u001b[39m)\n\u001b[1;32m     13\u001b[0m \u001b[38;5;28;01mreturn\u001b[39;00m x\n",
      "\u001b[0;31mRuntimeError\u001b[0m: Newton-Raphson: no root found after 100 iterations (eps=1e-14); best guess is 52.96931452309739 with error -117.5878129311007"
     ]
    }
   ],
   "source": [
    "newton_raphson(g, 15)"
   ]
  },
  {
   "cell_type": "markdown",
   "metadata": {},
   "source": [
    "Let's look how Newton-Raphson iterates: also return all intermediate $x$ values:"
   ]
  },
  {
   "cell_type": "code",
   "execution_count": 35,
   "metadata": {},
   "outputs": [],
   "source": [
    "def newton_raphson_with_history(f, x, h=1e-3, Nmax=100, eps=1e-14):\n",
    "    xvals = []\n",
    "    for iteration in range(Nmax):\n",
    "        fx = f(x)\n",
    "        if np.abs(fx) < eps:\n",
    "            break\n",
    "        df = (f(x + h/2) - f(x - h/2))/h\n",
    "        Delta_x = -fx/df\n",
    "        x += Delta_x\n",
    "        xvals.append(x)\n",
    "    else:\n",
    "        raise RuntimeError(f\"Newton-Raphson: no root found after {Nmax} iterations (eps={eps}); \"\n",
    "                           f\"best guess is {x} with error {fx}\")\n",
    "    return x, np.array(xvals)"
   ]
  },
  {
   "cell_type": "code",
   "execution_count": 36,
   "metadata": {},
   "outputs": [
    {
     "name": "stdout",
     "output_type": "stream",
     "text": [
      "root x0 = 1.0298665293222589 after 4 iterations\n",
      "root x0 = 1.0298665293222589 after 58 iterations\n",
      "root x0 = 1.0298665293222589 after 21 iterations\n"
     ]
    }
   ],
   "source": [
    "x = {}\n",
    "\n",
    "x0, xvals = newton_raphson_with_history(g, 1.5)\n",
    "x[1.5] = xvals\n",
    "print(\"root x0 = {} after {} iterations\".format(x0, len(xvals)))\n",
    "\n",
    "x0, xvals = newton_raphson_with_history(g, 5)\n",
    "x[5] = xvals\n",
    "print(\"root x0 = {} after {} iterations\".format(x0, len(xvals)))\n",
    "\n",
    "x0, xvals = newton_raphson_with_history(g, 10)\n",
    "x[10] = xvals\n",
    "print(\"root x0 = {} after {} iterations\".format(x0, len(xvals)))"
   ]
  },
  {
   "cell_type": "code",
   "execution_count": 37,
   "metadata": {},
   "outputs": [
    {
     "data": {
      "image/png": "[encoded data removed]",
      "text/plain": [
       "<Figure size 432x288 with 1 Axes>"
      ]
     },
     "metadata": {},
     "output_type": "display_data"
    }
   ],
   "source": [
    "for xstart in sorted(x.keys()):\n",
    "    plt.semilogx(x[xstart], label=str(xstart))\n",
    "plt.legend(loc=\"best\")\n",
    "plt.xlabel(\"iteration\")\n",
    "plt.ylabel(\"current guess for root $x_0$\");"
   ]
  }
 ],
 "metadata": {
  "anaconda-cloud": {},
  "kernelspec": {
   "display_name": "Python 3 (ipykernel)",
   "language": "python",
   "name": "python3"
  },
  "language_info": {
   "codemirror_mode": {
    "name": "ipython",
    "version": 3
   },
   "file_extension": ".py",
   "mimetype": "text/x-python",
   "name": "python",
   "nbconvert_exporter": "python",
   "pygments_lexer": "ipython3",
   "version": "3.9.0"
  }
 },
 "nbformat": 4,
 "nbformat_minor": 4
}
